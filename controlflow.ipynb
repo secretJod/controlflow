{
 "cells": [
  {
   "cell_type": "code",
   "execution_count": null,
   "id": "fd05a223-ecb2-4876-a927-3adcf80eefd5",
   "metadata": {},
   "outputs": [],
   "source": [
    "\n",
    "Elif Statements:\n",
    "\n",
    "Assignment Questions\n",
    "Basic Level:\n",
    "Intermediate Level:\n",
    "Advanced Level:\n",
    "on the user's input.\n",
    "Challenge Level:\n"
   ]
  },
  {
   "cell_type": "markdown",
   "id": "ae3e3582-016a-4b28-b4c9-c80b103c9181",
   "metadata": {},
   "source": [
    "1. Write a Python program to check if a given number is positive or negative."
   ]
  },
  {
   "cell_type": "code",
   "execution_count": 2,
   "id": "9dafa795-d23c-4239-9fe9-66c062e68e63",
   "metadata": {},
   "outputs": [
    {
     "name": "stdin",
     "output_type": "stream",
     "text": [
      "enter the number 78\n"
     ]
    },
    {
     "name": "stdout",
     "output_type": "stream",
     "text": [
      "the number is positive\n"
     ]
    }
   ],
   "source": [
    "def check(n):\n",
    "    if n<0:\n",
    "        return \"the number is negative\"\n",
    "    else:\n",
    "        return \"the number is positive\"\n",
    "check_number=int(input(\"enter the number\"))\n",
    "print(check(check_number))"
   ]
  },
  {
   "cell_type": "markdown",
   "id": "8a0a75f9-7c32-44b1-b596-5afc494deaf1",
   "metadata": {},
   "source": [
    "\n",
    "2. Create a program that determines if a person is eligible to vote based on their age."
   ]
  },
  {
   "cell_type": "code",
   "execution_count": 4,
   "id": "74072f73-0c3f-42cc-9d54-e34d5166f053",
   "metadata": {},
   "outputs": [
    {
     "name": "stdin",
     "output_type": "stream",
     "text": [
      "enter your age 89\n"
     ]
    },
    {
     "name": "stdout",
     "output_type": "stream",
     "text": [
      "you can vote\n",
      "None\n"
     ]
    }
   ],
   "source": [
    "def can_you_vote(age):\n",
    "    if age<=18:\n",
    "        print(\"you can't vote you're not eligible \")\n",
    "    else:\n",
    "        print(\"you can vote\")\n",
    "input_age=int(input(\"enter your age\"))\n",
    "print(can_you_vote(input_age))"
   ]
  },
  {
   "cell_type": "markdown",
   "id": "6e3bdfc0-6c83-4344-b067-62fe2ec1daa2",
   "metadata": {},
   "source": [
    "\n",
    "3. Develop a program to find the maximum of two numbers using if-else statements."
   ]
  },
  {
   "cell_type": "code",
   "execution_count": 2,
   "id": "e458c020-9205-4471-a65b-16a2f13ccc4b",
   "metadata": {},
   "outputs": [
    {
     "name": "stdin",
     "output_type": "stream",
     "text": [
      "enter the first num 23\n",
      "enter the second num 45\n"
     ]
    },
    {
     "name": "stdout",
     "output_type": "stream",
     "text": [
      "the num2 is greater than num 1\n"
     ]
    }
   ],
   "source": [
    "num1=int(input(\"enter the first num\"))\n",
    "num2=int(input(\"enter the second num\"))\n",
    "if num1>num2:\n",
    "    print(\"the num1 is greater than num 2\")\n",
    "else:\n",
    "    print(\"the num2 is greater than num 1\")"
   ]
  },
  {
   "cell_type": "markdown",
   "id": "81cc60ce-edd6-425e-b716-cd07c6bf2da6",
   "metadata": {},
   "source": [
    "\n",
    "4. Write a Python script to classify a given year as a leap year or not."
   ]
  },
  {
   "cell_type": "code",
   "execution_count": 4,
   "id": "fdb01008-c4e3-44d7-8387-760121401e58",
   "metadata": {},
   "outputs": [
    {
     "name": "stdin",
     "output_type": "stream",
     "text": [
      "enter the year to check as leap year or not 2023\n"
     ]
    },
    {
     "name": "stdout",
     "output_type": "stream",
     "text": [
      "the year you entered is not a leap year\n"
     ]
    }
   ],
   "source": [
    "def check_leap_year(year):\n",
    "    if (year %4==0 and year %100!=0) or (year %400==0):\n",
    "        return True\n",
    "    else:\n",
    "        return False\n",
    "year_to_check=int(input(\"enter the year to check as leap year or not\"))\n",
    "if check_leap_year(year_to_check):\n",
    "    print(\"yes the year is a leap year\")\n",
    "else:\n",
    "    print(\"the year you entered is not a leap year\")"
   ]
  },
  {
   "cell_type": "markdown",
   "id": "165cfe90-13ec-4175-b5c4-222ffdb7ca22",
   "metadata": {},
   "source": [
    "\n",
    "5. Create a program that checks whether a character is a vowel or a consonant."
   ]
  },
  {
   "cell_type": "code",
   "execution_count": 6,
   "id": "ac792a32-d94e-433a-a65c-19354dd9fd99",
   "metadata": {},
   "outputs": [
    {
     "name": "stdin",
     "output_type": "stream",
     "text": [
      "enter the character b\n"
     ]
    },
    {
     "name": "stdout",
     "output_type": "stream",
     "text": [
      "b is a consonant.\n"
     ]
    }
   ],
   "source": [
    "def check_char_type(char):\n",
    "    vowels = \"aeiouAEIOU\"\n",
    "    \n",
    "    if char.isalpha():\n",
    "        if char in vowels:\n",
    "            print(f\"{char} is a vowel.\")\n",
    "        else:\n",
    "            print(f\"{char} is a consonant.\")\n",
    "    else:\n",
    "        print(f\"{char} is not a valid alphabetical character.\")\n",
    "\n",
    "\n",
    "character = input('enter the character')\n",
    "check_char_type(character)\n"
   ]
  },
  {
   "cell_type": "markdown",
   "id": "a0953064-c982-4b1e-a7a5-562882e17c9e",
   "metadata": {},
   "source": [
    "\n",
    "6. Implement a program to determine whether a given number is even or odd.\n"
   ]
  },
  {
   "cell_type": "code",
   "execution_count": 8,
   "id": "5ed03d3b-9e76-4664-8635-f3de0ea7d723",
   "metadata": {},
   "outputs": [
    {
     "name": "stdin",
     "output_type": "stream",
     "text": [
      "enter the number to check 56\n"
     ]
    },
    {
     "name": "stdout",
     "output_type": "stream",
     "text": [
      "the number is a even number\n"
     ]
    }
   ],
   "source": [
    "num=int(input(\"enter the number to check\"))\n",
    "if num%2==0:\n",
    "    print(\"the number is a even number\")\n",
    "else:\n",
    "    print(\"the number is a odd number\")"
   ]
  },
  {
   "cell_type": "markdown",
   "id": "fe0b80b6-d259-43a7-ad3b-bd11084ab9a3",
   "metadata": {},
   "source": [
    "\n",
    "7. Write a Python function to calculate the absolute value of a number without using the `abs()` function."
   ]
  },
  {
   "cell_type": "code",
   "execution_count": 12,
   "id": "b653590f-8390-4b8e-adf8-9aad71872791",
   "metadata": {},
   "outputs": [
    {
     "name": "stdin",
     "output_type": "stream",
     "text": [
      "Enter the number:  -566876\n"
     ]
    },
    {
     "name": "stdout",
     "output_type": "stream",
     "text": [
      "566876\n"
     ]
    }
   ],
   "source": [
    "def absolute(num):\n",
    "    if num > 0:\n",
    "        return num\n",
    "    else:\n",
    "        return -num\n",
    "\n",
    "absolute_of_number= int(input(\"Enter the number: \"))\n",
    "print(absolute(absolute_of_number))\n"
   ]
  },
  {
   "cell_type": "markdown",
   "id": "d8d95e08-898b-4922-bc13-6b3fb3b143f0",
   "metadata": {},
   "source": [
    "\n",
    "8. Develop a program that determines the largest of three given numbers using if-else statements."
   ]
  },
  {
   "cell_type": "code",
   "execution_count": 13,
   "id": "ab5bd162-f603-4b39-bedf-76cd6010b090",
   "metadata": {},
   "outputs": [
    {
     "name": "stdin",
     "output_type": "stream",
     "text": [
      "Enter the first number:  45\n",
      "Enter the second number:  67\n",
      "Enter the third number:  89\n"
     ]
    },
    {
     "name": "stdout",
     "output_type": "stream",
     "text": [
      "The largest of 45.0, 67.0, and 89.0 is: 89.0\n"
     ]
    }
   ],
   "source": [
    "\n",
    "def find_largest(num1, num2, num3):\n",
    "    if num1 >= num2 and num1 >= num3:\n",
    "        return num1\n",
    "    elif num2 >= num1 and num2 >= num3:\n",
    "        return num2\n",
    "    else:\n",
    "        return num3\n",
    "\n",
    "number1 = float(input(\"Enter the first number: \"))\n",
    "number2 = float(input(\"Enter the second number: \"))\n",
    "number3 = float(input(\"Enter the third number: \"))\n",
    "\n",
    "largest_number = find_largest(number1, number2, number3)\n",
    "print(f\"The largest of {number1}, {number2}, and {number3} is: {largest_number}\")\n"
   ]
  },
  {
   "cell_type": "markdown",
   "id": "e2700cb0-f73e-40a0-bcdb-370a06a60bb6",
   "metadata": {},
   "source": [
    "\n",
    "9. Create a program that checks if a given string is a palindrome."
   ]
  },
  {
   "cell_type": "code",
   "execution_count": 15,
   "id": "71ef042d-57b1-439c-ba0a-77f3c70d5e51",
   "metadata": {},
   "outputs": [
    {
     "name": "stdin",
     "output_type": "stream",
     "text": [
      "enter the string to check rat\n"
     ]
    },
    {
     "name": "stdout",
     "output_type": "stream",
     "text": [
      "no the string is not palindrome\n"
     ]
    }
   ],
   "source": [
    "string=input(\"enter the string to check\")\n",
    "if string==string[::-1]:\n",
    "    print(\"yes the string is palindrome\")\n",
    "else:\n",
    "    print(\"no the string is not palindrome\")"
   ]
  },
  {
   "cell_type": "markdown",
   "id": "7c3688b4-3a29-4349-a1cd-bc9668b80f3b",
   "metadata": {},
   "source": [
    "\n",
    "10. Write a Python program to calculate the grade based on a student's score Nested If-Else Statements:"
   ]
  },
  {
   "cell_type": "code",
   "execution_count": 18,
   "id": "56f4bd49-e80e-4b0e-9b06-40fd2f2af700",
   "metadata": {},
   "outputs": [
    {
     "name": "stdin",
     "output_type": "stream",
     "text": [
      "Enter the student's score:  97\n"
     ]
    },
    {
     "name": "stdout",
     "output_type": "stream",
     "text": [
      "Grade: A\n"
     ]
    }
   ],
   "source": [
    "# Input student's score\n",
    "score = float(input(\"Enter the student's score: \"))\n",
    "\n",
    "# Determine and print the grade\n",
    "if score >= 90:\n",
    "    print(\"Grade: A\")\n",
    "elif score >= 80:\n",
    "    print(\"Grade: B\")\n",
    "elif score >= 70:\n",
    "    print(\"Grade: C\")\n",
    "elif score >= 60:\n",
    "    print(\"Grade: D\")\n",
    "else:\n",
    "    print(\"Grade: F\")\n"
   ]
  },
  {
   "cell_type": "markdown",
   "id": "933bbac6-c498-459f-9853-817a5af51275",
   "metadata": {},
   "source": [
    "\n",
    "11. Write a program to find the largest among three numbers using nested if-else statements."
   ]
  },
  {
   "cell_type": "code",
   "execution_count": 19,
   "id": "34d75c13-3a44-457b-8373-259e69c7d3e0",
   "metadata": {},
   "outputs": [
    {
     "name": "stdin",
     "output_type": "stream",
     "text": [
      "Enter the first number:  45\n",
      "Enter the second number:  456\n",
      "Enter the third number:  323\n"
     ]
    },
    {
     "name": "stdout",
     "output_type": "stream",
     "text": [
      "The largest number is: 456.0\n"
     ]
    }
   ],
   "source": [
    "number1 = float(input(\"Enter the first number: \"))\n",
    "number2 = float(input(\"Enter the second number: \"))\n",
    "number3 = float(input(\"Enter the third number: \"))\n",
    "\n",
    "if number1 >= number2:\n",
    "    if number1 >= number3:\n",
    "        print(f\"The largest number is: {number1}\")\n",
    "    else:\n",
    "        print(f\"The largest number is: {number3}\")\n",
    "else:\n",
    "    if number2 >= number3:\n",
    "        print(f\"The largest number is: {number2}\")\n",
    "    else:\n",
    "        print(f\"The largest number is: {number3}\")\n"
   ]
  },
  {
   "cell_type": "markdown",
   "id": "9e0d04d5-c8f6-48da-a406-42b13c3d36a6",
   "metadata": {},
   "source": [
    "\n",
    "12. Implement a program to determine if a triangle is equilateral, isosceles, or scalene."
   ]
  },
  {
   "cell_type": "code",
   "execution_count": 23,
   "id": "22d91516-72c6-4cf6-a3aa-1b6dfeb81212",
   "metadata": {},
   "outputs": [
    {
     "name": "stdin",
     "output_type": "stream",
     "text": [
      "Enter the length of the first side:  67\n",
      "Enter the lengthfof the second side:  67\n",
      "Enter the length of the third side:  67\n"
     ]
    },
    {
     "name": "stdout",
     "output_type": "stream",
     "text": [
      "it is an equilateral traingle\n"
     ]
    }
   ],
   "source": [
    "#lets take the side of  traingle as an input\n",
    "side1 = float(input(\"Enter the length of the first side: \"))\n",
    "side2 = float(input(\"Enter the lengthfof the second side: \"))\n",
    "side3 = float(input(\"Enter the length of the third side: \"))\n",
    "if side1==side2 ==side3:\n",
    "    print(\"it is an equilateral traingle\")\n",
    "elif side1==side2 or side2==side3 or side1==side3:\n",
    "    print(\"it is isosceles traingle\")\n",
    "else:\n",
    "    print(\"it is an scalene traingle\")"
   ]
  },
  {
   "cell_type": "markdown",
   "id": "78b3ae90-a6db-481d-bcca-f7077832b51b",
   "metadata": {},
   "source": [
    "\n",
    "13. Develop a program that checks if a year is a leap year and also if it is a century year."
   ]
  },
  {
   "cell_type": "code",
   "execution_count": 29,
   "id": "677cff16-7f40-4345-873c-946565fe8e40",
   "metadata": {},
   "outputs": [
    {
     "name": "stdin",
     "output_type": "stream",
     "text": [
      "Enter a year:  7000\n"
     ]
    },
    {
     "name": "stdout",
     "output_type": "stream",
     "text": [
      "7000 is not a leap year.\n",
      "7000 is a century year.\n"
     ]
    }
   ],
   "source": [
    "def is_leap_year(year):\n",
    "    return (year % 4 == 0 and year % 100 != 0) or (year % 400 == 0)\n",
    "\n",
    "def is_century_year(year):\n",
    "    return year % 100 == 0\n",
    "\n",
    "def check_year_type(year):\n",
    "    if is_leap_year(year):\n",
    "        print(f\"{year} is a leap year.\")\n",
    "    else:\n",
    "        print(f\"{year} is not a leap year.\")\n",
    "\n",
    "    if is_century_year(year):\n",
    "        print(f\"{year} is a century year.\")\n",
    "    else:\n",
    "        print(f\"{year} is not a century year.\")\n",
    "\n",
    "# Example usage:\n",
    "input_year = int(input(\"Enter a year: \"))\n",
    "check_year_type(input_year)\n"
   ]
  },
  {
   "cell_type": "markdown",
   "id": "f8bced16-1d81-4e66-b188-40a44588dc18",
   "metadata": {},
   "source": [
    "\n",
    "14. Write a Python script to determine if a number is positive, negative, or zero."
   ]
  },
  {
   "cell_type": "code",
   "execution_count": 30,
   "id": "7d6f4475-5430-4454-acd5-b70146530d2d",
   "metadata": {},
   "outputs": [
    {
     "name": "stdin",
     "output_type": "stream",
     "text": [
      "enter the number to check -78\n"
     ]
    },
    {
     "name": "stdout",
     "output_type": "stream",
     "text": [
      "the number is negative\n"
     ]
    }
   ],
   "source": [
    "def check (num):\n",
    "    if num==0:\n",
    "        return \"the number is zero\"\n",
    "    elif num>0:\n",
    "        return \"the number is  positive\"\n",
    "    else:\n",
    "        return \"the number is negative\"\n",
    "input_num=int(input(\"enter the number to check\"))\n",
    "print(check(input_num))"
   ]
  },
  {
   "cell_type": "markdown",
   "id": "753cce95-34ce-49f8-8156-8b1209cb7140",
   "metadata": {},
   "source": [
    "\n",
    "15. Create a program to check if a person is a teenager (between 13 and 19 years old)."
   ]
  },
  {
   "cell_type": "code",
   "execution_count": 31,
   "id": "490fb97b-ecb8-46f6-9937-c565dcfed7b4",
   "metadata": {},
   "outputs": [
    {
     "name": "stdin",
     "output_type": "stream",
     "text": [
      "enter the age:  45\n"
     ]
    },
    {
     "name": "stdout",
     "output_type": "stream",
     "text": [
      "no the person is not a teenager\n",
      "None\n"
     ]
    }
   ],
   "source": [
    "def check(age):\n",
    "    if age>13 and age <19:\n",
    "        print(\"the person is a teenager\")\n",
    "    else:\n",
    "        print(\"no the person is not a teenager\")\n",
    "\n",
    "age=int(input(\"enter the age: \"))\n",
    "print(check(age))"
   ]
  },
  {
   "cell_type": "markdown",
   "id": "b95e5b4e-28d5-409f-a948-88a63e1e5d03",
   "metadata": {},
   "source": [
    "\n",
    "16. Develop a program that determines the type of angle based on its measure (acute, obtuse, or right)."
   ]
  },
  {
   "cell_type": "code",
   "execution_count": 32,
   "id": "103b7f78-9591-41fc-a4d3-b5c7abab423e",
   "metadata": {},
   "outputs": [
    {
     "name": "stdin",
     "output_type": "stream",
     "text": [
      "Enter the angle measure in degrees:  45\n"
     ]
    },
    {
     "name": "stdout",
     "output_type": "stream",
     "text": [
      "Acute angle\n"
     ]
    }
   ],
   "source": [
    "angle_measure = float(input(\"Enter the angle measure in degrees: \"))\n",
    "\n",
    "if angle_measure > 0 and angle_measure < 90:\n",
    "    print(\"Acute angle\")\n",
    "elif angle_measure == 90:\n",
    "    print(\"Right angle\")\n",
    "elif angle_measure > 90 and angle_measure < 180:\n",
    "    print(\"Obtuse angle\")\n",
    "else:\n",
    "    print(\"Invalid angle measure\")\n"
   ]
  },
  {
   "cell_type": "markdown",
   "id": "b1ae2e57-a1b6-405c-bd14-9d58783bf24e",
   "metadata": {},
   "source": [
    "\n",
    "17. Write a Python program to calculate the roots of a quadratic equation."
   ]
  },
  {
   "cell_type": "code",
   "execution_count": null,
   "id": "2dfde8a7-5735-42af-89b4-f798e867e79a",
   "metadata": {},
   "outputs": [],
   "source": []
  },
  {
   "cell_type": "markdown",
   "id": "74e398df-6f07-40b4-912a-cd2e2501195a",
   "metadata": {},
   "source": [
    "\n",
    "18. Implement a program to determine the day of the week based on a user-provided number (1 for Monday, 2\n",
    "for Tuesday, etc.)."
   ]
  },
  {
   "cell_type": "code",
   "execution_count": 33,
   "id": "4d14a771-d7fd-4641-855c-c8ca06920587",
   "metadata": {},
   "outputs": [
    {
     "name": "stdin",
     "output_type": "stream",
     "text": [
      "Enter a number (1 for Monday, 2 for Tuesday, etc.):  6\n"
     ]
    },
    {
     "name": "stdout",
     "output_type": "stream",
     "text": [
      "The day corresponding to 6 is Saturday.\n"
     ]
    }
   ],
   "source": [
    "day_number = int(input(\"Enter a number (1 for Monday, 2 for Tuesday, etc.): \"))\n",
    "\n",
    "if 1 <= day_number <= 7:\n",
    "    days_of_week = [\"Monday\", \"Tuesday\", \"Wednesday\", \"Thursday\", \"Friday\", \"Saturday\", \"Sunday\"]\n",
    "    day_of_week = days_of_week[day_number - 1]\n",
    "    print(f\"The day corresponding to {day_number} is {day_of_week}.\")\n",
    "else:\n",
    "    print(\"Invalid input. Please enter a number between 1 and 7.\")\n"
   ]
  },
  {
   "cell_type": "markdown",
   "id": "53e5a4ae-bdcf-4879-a602-a518979b3996",
   "metadata": {},
   "source": [
    "\n",
    "19. Create a program that determines if a year is a leap year and also if it is evenly divisible by 400."
   ]
  },
  {
   "cell_type": "code",
   "execution_count": 34,
   "id": "39d86037-ef8f-4b14-897f-00b290870efa",
   "metadata": {},
   "outputs": [
    {
     "name": "stdin",
     "output_type": "stream",
     "text": [
      "Enter a year:  5678\n"
     ]
    },
    {
     "name": "stdout",
     "output_type": "stream",
     "text": [
      "5678 is not a leap year.\n",
      "5678 is not evenly divisible by 400.\n"
     ]
    }
   ],
   "source": [
    "\n",
    "year = int(input(\"Enter a year: \"))\n",
    "\n",
    "if (year % 4 == 0 and year % 100 != 0) or (year % 400 == 0):\n",
    "    print(f\"{year} is a leap year.\")\n",
    "else:\n",
    "    print(f\"{year} is not a leap year.\")\n",
    "\n",
    "if year % 400 == 0:\n",
    "    print(f\"{year} is evenly divisible by 400.\")\n",
    "else:\n",
    "    print(f\"{year} is not evenly divisible by 400.\")\n"
   ]
  },
  {
   "cell_type": "markdown",
   "id": "bf1d2606-2cff-400c-9c17-d5ccd518d9cc",
   "metadata": {},
   "source": [
    "\n",
    "20. Develop a program that checks if a given number is prime or not using nested if-else statements."
   ]
  },
  {
   "cell_type": "code",
   "execution_count": 35,
   "id": "bc311941-1869-459e-9df5-3fbfd0fb3325",
   "metadata": {},
   "outputs": [
    {
     "name": "stdin",
     "output_type": "stream",
     "text": [
      "Enter a number:  45\n"
     ]
    },
    {
     "name": "stdout",
     "output_type": "stream",
     "text": [
      "45 is not a prime number.\n"
     ]
    }
   ],
   "source": [
    "def is_prime(number):\n",
    "    if number < 2:\n",
    "        print(f\"{number} is not a prime number.\")\n",
    "    else:\n",
    "        for i in range(2, int(number**0.5) + 1):\n",
    "            if number % i == 0:\n",
    "                print(f\"{number} is not a prime number.\")\n",
    "                break\n",
    "        else:\n",
    "            print(f\"{number} is a prime number.\")\n",
    "user_input = int(input(\"Enter a number: \"))\n",
    "is_prime(user_input)\n"
   ]
  },
  {
   "cell_type": "markdown",
   "id": "c8d65c5f-3759-4a14-ad97-4ef23e8934b8",
   "metadata": {},
   "source": [
    "\n",
    "21. Write a Python program to assign grades based on different ranges of scores using elif statements."
   ]
  },
  {
   "cell_type": "code",
   "execution_count": 40,
   "id": "53fc5da6-9ef8-41b0-876f-04ac7a1ae31c",
   "metadata": {},
   "outputs": [
    {
     "name": "stdin",
     "output_type": "stream",
     "text": [
      "Enter the score:  67\n"
     ]
    },
    {
     "name": "stdout",
     "output_type": "stream",
     "text": [
      "The grade for the score 67.0 is: D\n"
     ]
    }
   ],
   "source": [
    "def assign_grade(score):\n",
    "    if score >= 90:\n",
    "        grade = 'A'\n",
    "    elif score >= 80:\n",
    "        grade = 'B'\n",
    "    elif score >= 70:\n",
    "        grade = 'C'\n",
    "    elif score >= 60:\n",
    "        grade = 'D'\n",
    "    else:\n",
    "        grade = 'F'\n",
    "    return grade\n",
    "try:\n",
    "    score = float(input(\"Enter the score: \"))\n",
    "    if 0 <= score <= 100:\n",
    "        result = assign_grade(score)\n",
    "        print(f\"The grade for the score {score} is: {result}\")\n",
    "    else:\n",
    "        print(\"Invalid score! Please enter a score between 0 and 100.\")\n",
    "except ValueError:\n",
    "    print(\"Invalid input! Please enter a numeric score.\")\n"
   ]
  },
  {
   "cell_type": "markdown",
   "id": "0a0e0dd0-79d3-4ae3-bae1-7e0809033743",
   "metadata": {},
   "source": [
    "\n",
    "22. Implement a program to determine the type of a triangle based on its angles.\n"
   ]
  },
  {
   "cell_type": "code",
   "execution_count": 5,
   "id": "ddc47330-fb34-4b8c-8c90-bb080a5f2378",
   "metadata": {},
   "outputs": [
    {
     "name": "stdin",
     "output_type": "stream",
     "text": [
      "enter the side 60\n",
      "enter the side 60\n",
      "enter the side 60\n"
     ]
    },
    {
     "name": "stdout",
     "output_type": "stream",
     "text": [
      "the traingle is  equilateral traingle\n"
     ]
    }
   ],
   "source": [
    "def traingle_type(angle1,angle2,angle3):\n",
    "    if angle1+angle2+angle3==180:\n",
    "        if angle1==angle2==angle3:\n",
    "            return 'equilateral traingle'\n",
    "        elif angle1==angle2 or angle1==angle3 or angle2==angle3:\n",
    "            return 'isosceles  traingle'\n",
    "        else:\n",
    "            return 'scalene triangle'\n",
    "    else:\n",
    "        return 'invalid traingle '\n",
    "try:\n",
    "    angle1=float(input('enter the side'))\n",
    "    angle2=float(input('enter the side'))\n",
    "    angle3=float(input('enter the side'))\n",
    "    \n",
    "    result=traingle_type(angle1,angle2,angle3)\n",
    "    print('the traingle is ',result)\n",
    "except ValueError:\n",
    "    print(\"there is some kind of mistake in your output\")\n",
    "          \n",
    "    \n"
   ]
  },
  {
   "cell_type": "markdown",
   "id": "c55520a7-a3a7-42d2-b2c6-ed68f5c0bbf7",
   "metadata": {},
   "source": [
    "\n",
    "23. Develop a program to categorize a given person's BMI into underweight, normal, overweight, or obese using\n",
    "elif statements."
   ]
  },
  {
   "cell_type": "code",
   "execution_count": 14,
   "id": "bcae59a3-e1ee-4587-a564-2fccaf8a8a2e",
   "metadata": {},
   "outputs": [
    {
     "name": "stdin",
     "output_type": "stream",
     "text": [
      "Enter weight (in kg):  79\n",
      "Enter height (in meters):  5.9\n"
     ]
    },
    {
     "name": "stdout",
     "output_type": "stream",
     "text": [
      "Your BMI is: 2.27\n",
      "You are categorized as: Underweight\n"
     ]
    }
   ],
   "source": [
    "class BMICalculator:\n",
    "    def __init__(self, weight, height):\n",
    "        self.weight = weight\n",
    "        self.height = height\n",
    "\n",
    "    def calculate_bmi(self):\n",
    "        bmi = self.weight / (self.height ** 2)\n",
    "        return bmi\n",
    "\n",
    "    def categorize_bmi(self, bmi):\n",
    "        if bmi < 18.5:\n",
    "            category = \"Underweight\"\n",
    "        elif 18.5 <= bmi < 24.9:\n",
    "            category = \"Normal weight\"\n",
    "        elif 25 <= bmi < 29.9:\n",
    "            category = \"Overweight\"\n",
    "        else:\n",
    "            category = \"Obese\"\n",
    "        return category\n",
    "\n",
    "    def get_user_input(self):\n",
    "        try:\n",
    "            self.weight = float(input(\"Enter weight (in kg): \"))\n",
    "            self.height = float(input(\"Enter height (in meters): \"))\n",
    "        except ValueError:\n",
    "            print(\"Invalid input! Please enter numeric values for weight and height.\")\n",
    "\n",
    "    def run(self):\n",
    "        self.get_user_input()\n",
    "        bmi = self.calculate_bmi()\n",
    "        category = self.categorize_bmi(bmi)\n",
    "        print(f\"Your BMI is: {bmi:.2f}\")\n",
    "        print(f\"You are categorized as: {category}\")\n",
    "if __name__ == \"__main__\":\n",
    "    bmi_calculator = BMICalculator(weight=0, height=0)\n",
    "    bmi_calculator.run()\n"
   ]
  },
  {
   "cell_type": "markdown",
   "id": "7128de86-f497-49e6-a8ec-669578561017",
   "metadata": {},
   "source": [
    "\n",
    "24. Create a program that determines whether a given number is positive, negative, or zero using elif\n",
    "statements."
   ]
  },
  {
   "cell_type": "code",
   "execution_count": 19,
   "id": "767750c9-ad14-47bc-8329-528ac8b3df11",
   "metadata": {},
   "outputs": [
    {
     "name": "stdin",
     "output_type": "stream",
     "text": [
      "enter the number to check -45\n"
     ]
    },
    {
     "data": {
      "text/plain": [
       "'this number is negative'"
      ]
     },
     "execution_count": 19,
     "metadata": {},
     "output_type": "execute_result"
    }
   ],
   "source": [
    "class check:\n",
    "    def __init__(self,num):\n",
    "        self.num=num\n",
    "    def run(self):\n",
    "        if self.num<0:\n",
    "            return \"this number is negative\"\n",
    "        elif self.num>0:\n",
    "            return \"this number is positive\"\n",
    "        else:\n",
    "            return \"the number is zero\"\n",
    "n=float(input(\"enter the number to check\"))\n",
    "check=check(n)\n",
    "check.run()"
   ]
  },
  {
   "cell_type": "markdown",
   "id": "00c13768-68ec-4427-9764-6626625d0fde",
   "metadata": {},
   "source": [
    "25. Write a Python script to determine the type of a character (uppercase, lowercase, or special) using elif\n",
    "statements.\n"
   ]
  },
  {
   "cell_type": "code",
   "execution_count": 1,
   "id": "3db7775c-ee7c-4abf-947d-b1c1bdb0f6e0",
   "metadata": {},
   "outputs": [
    {
     "name": "stdin",
     "output_type": "stream",
     "text": [
      "Enter a single character:  a\n"
     ]
    },
    {
     "name": "stdout",
     "output_type": "stream",
     "text": [
      "The character 'a' is a Lowercase Letter.\n"
     ]
    }
   ],
   "source": [
    "class CharacterTypeChecker:\n",
    "    def __init__(self, char):\n",
    "        self.char = char\n",
    "\n",
    "    def determine_type(self):\n",
    "        if self.char.isupper():\n",
    "            return \"Uppercase Letter\"\n",
    "        elif self.char.islower():\n",
    "            return \"Lowercase Letter\"\n",
    "        elif self.char.isnumeric():\n",
    "            return \"Numeric Digit\"\n",
    "        else:\n",
    "            return \"Special Character\"\n",
    "\n",
    "if __name__ == \"__main__\":\n",
    "    try:\n",
    "        user_input = input(\"Enter a single character: \")\n",
    "\n",
    "        if len(user_input) == 1:\n",
    "            char_checker = CharacterTypeChecker(user_input)\n",
    "            result = char_checker.determine_type()\n",
    "            print(f\"The character '{user_input}' is a {result}.\")\n",
    "        else:\n",
    "            print(\"Invalid input! Please enter a single character.\")\n",
    "    except ValueError:\n",
    "        print(\"Invalid input! Please enter a valid character.\")\n"
   ]
  },
  {
   "cell_type": "markdown",
   "id": "f3b9a6d9-8269-4cfb-a381-7f244b3f24fd",
   "metadata": {},
   "source": [
    "26. Implement a program to calculate the discounted price based on different purchase amounts using elif\n",
    "statements."
   ]
  },
  {
   "cell_type": "code",
   "execution_count": 1,
   "id": "7da4ecc0-2fda-4033-87cf-26bcf528d810",
   "metadata": {},
   "outputs": [
    {
     "name": "stdout",
     "output_type": "stream",
     "text": [
      "Purchase Amount: $10, Discounted Price: $10.0\n",
      "Purchase Amount: $30, Discounted Price: $27.0\n",
      "Purchase Amount: $50, Discounted Price: $42.5\n",
      "Purchase Amount: $120, Discounted Price: $96.0\n"
     ]
    }
   ],
   "source": [
    "def calculate_discounted_price(purchase_amount):\n",
    "    if purchase_amount >= 100:\n",
    "        discount_percentage = 20\n",
    "    elif purchase_amount >= 50:\n",
    "        discount_percentage = 15\n",
    "    elif purchase_amount >= 20:\n",
    "        discount_percentage = 10\n",
    "    else:\n",
    "        discount_percentage = 0\n",
    "    \n",
    "    discount_amount = purchase_amount * (discount_percentage / 100)\n",
    "    discounted_price = purchase_amount - discount_amount\n",
    "    \n",
    "    return discounted_price\n",
    "\n",
    "purchase_amounts = [10, 30, 50, 120]\n",
    "\n",
    "for amount in purchase_amounts:\n",
    "    discounted_price = calculate_discounted_price(amount)\n",
    "    print(f\"Purchase Amount: ${amount}, Discounted Price: ${discounted_price}\")\n"
   ]
  },
  {
   "cell_type": "markdown",
   "id": "d629d26b-b5a1-4ea4-8e7d-d2ea24f0137f",
   "metadata": {},
   "source": [
    "\n",
    "27. Develop a program to calculate the electricity bill based on different consumption slabs using elif\n",
    "statements."
   ]
  },
  {
   "cell_type": "code",
   "execution_count": 2,
   "id": "4a6f4428-27a2-4bbb-b503-4b333c337b85",
   "metadata": {},
   "outputs": [
    {
     "name": "stdout",
     "output_type": "stream",
     "text": [
      "Consumed Units: 30, Electricity Bill: $75.0\n",
      "Consumed Units: 80, Electricity Bill: $280.0\n",
      "Consumed Units: 150, Electricity Bill: $675.0\n",
      "Consumed Units: 250, Electricity Bill: $1375.0\n"
     ]
    }
   ],
   "source": [
    "def calculate_electricity_bill(units_consumed):\n",
    "    if units_consumed <= 50:\n",
    "        rate_per_unit = 2.50\n",
    "    elif units_consumed <= 100:\n",
    "        rate_per_unit = 3.50\n",
    "    elif units_consumed <= 200:\n",
    "        rate_per_unit = 4.50\n",
    "    elif units_consumed <= 300:\n",
    "        rate_per_unit = 5.50\n",
    "    else:\n",
    "        rate_per_unit = 6.50\n",
    "    \n",
    "    total_bill = units_consumed * rate_per_unit\n",
    "    return total_bill\n",
    "\n",
    "consumption_levels = [30, 80, 150, 250]\n",
    "\n",
    "for units_consumed in consumption_levels:\n",
    "    bill_amount = calculate_electricity_bill(units_consumed)\n",
    "    print(f\"Consumed Units: {units_consumed}, Electricity Bill: ${bill_amount}\")\n"
   ]
  },
  {
   "cell_type": "markdown",
   "id": "f37cca18-e988-4bb1-9ba8-514982932f7c",
   "metadata": {},
   "source": [
    "\n",
    "28. Create a program to determine the type of quadrilateral based on its angles and sides using elif\n",
    "statements."
   ]
  },
  {
   "cell_type": "markdown",
   "id": "bc82f206-df7e-41f3-bc46-1fe4ac012788",
   "metadata": {},
   "source": [
    "\n",
    "29. Write a Python script to determine the season based on a user-provided month using elif statements."
   ]
  },
  {
   "cell_type": "code",
   "execution_count": 2,
   "id": "31259c73-8f55-48a8-a252-b6ab6ee0a362",
   "metadata": {},
   "outputs": [
    {
     "name": "stdin",
     "output_type": "stream",
     "text": [
      "enter the month number 1\n"
     ]
    },
    {
     "name": "stdout",
     "output_type": "stream",
     "text": [
      "winter \n"
     ]
    }
   ],
   "source": [
    "def season_identifier(month):\n",
    "    if month in [12,1,2]:\n",
    "        return 'winter '\n",
    "    elif month in [3,4,5]:\n",
    "        return 'spring'\n",
    "    elif month in [6,7,8]:\n",
    "        return 'summer'\n",
    "    elif month in [9,10,11]:\n",
    "        return 'fall'\n",
    "    else:\n",
    "        return 'invalid month'\n",
    "month=int(input(\"enter the month number\"))\n",
    "print(season_identifier(month))\n",
    "    \n",
    "    "
   ]
  },
  {
   "cell_type": "markdown",
   "id": "a417563a-72c2-4474-86bf-0d831aaa6323",
   "metadata": {},
   "source": [
    "\n",
    "30. Implement a program to determine the type of a year (leap or common) and month (30 or 31 days) using\n",
    "elif statements.\n"
   ]
  },
  {
   "cell_type": "code",
   "execution_count": 2,
   "id": "60deeebd-1a8e-4412-9ab8-1ec4be84373a",
   "metadata": {},
   "outputs": [
    {
     "name": "stdin",
     "output_type": "stream",
     "text": [
      "enter the year 2024\n",
      "enter the month 6\n"
     ]
    },
    {
     "name": "stdout",
     "output_type": "stream",
     "text": [
      "your entered year is a leap year\n",
      "the 6 has 30 days\n"
     ]
    }
   ],
   "source": [
    "def leap_year(year):\n",
    "    return (year%4==0 and year %100 != 0) or (year % 400==0)\n",
    "def days_in_month(month,year):\n",
    "    if month in [1,3,5,7,8,10,12]:\n",
    "        return 31\n",
    "    elif month in [4,6,9,11]:\n",
    "        return 30\n",
    "    elif month==2:\n",
    "        return 29 if leap_year(year) else 28\n",
    "    else:\n",
    "        return -1\n",
    "year=int(input(\"enter the year\"))\n",
    "month=int(input(\"enter the month\"))\n",
    "if leap_year(year):\n",
    "    print(\"your entered year is a leap year\")\n",
    "else:\n",
    "    print(\"year you entered is a common year\")\n",
    "days = days_in_month(month,year)\n",
    "if days ==-1:\n",
    "    print(\"invalid month you have entered\")\n",
    "else:\n",
    "    print(f'the {month} has {days} days')\n",
    "    "
   ]
  },
  {
   "cell_type": "markdown",
   "id": "d3ffbc87-7c8b-429f-80cd-3735c408a197",
   "metadata": {},
   "source": [
    "\n",
    "1. Write a Python program that checks if a given number is positive, negative, or zero."
   ]
  },
  {
   "cell_type": "code",
   "execution_count": 3,
   "id": "8cc5759e-d30c-43e4-95a8-b77d9f8ec125",
   "metadata": {},
   "outputs": [
    {
     "name": "stdin",
     "output_type": "stream",
     "text": [
      "Enter a number:  5\n"
     ]
    },
    {
     "name": "stdout",
     "output_type": "stream",
     "text": [
      "The number is positive.\n"
     ]
    }
   ],
   "source": [
    "# Input a number\n",
    "number = float(input(\"Enter a number: \"))\n",
    "\n",
    "# Check if the number is positive, negative, or zero\n",
    "if number > 0:\n",
    "    print(\"The number is positive.\")\n",
    "elif number < 0:\n",
    "    print(\"The number is negative.\")\n",
    "else:\n",
    "    print(\"The number is zero.\")\n"
   ]
  },
  {
   "cell_type": "markdown",
   "id": "bff7c5f5-b65c-4fbd-aa11-25f0dfdc519b",
   "metadata": {},
   "source": [
    "\n",
    "2. Create a program to determine if a person is eligible to vote based on their age."
   ]
  },
  {
   "cell_type": "code",
   "execution_count": 4,
   "id": "e86350f4-0032-42b2-99f7-4715caf58be4",
   "metadata": {},
   "outputs": [
    {
     "name": "stdin",
     "output_type": "stream",
     "text": [
      "Enter your age:  56\n"
     ]
    },
    {
     "name": "stdout",
     "output_type": "stream",
     "text": [
      "You are eligible to vote.\n"
     ]
    }
   ],
   "source": [
    "# Input age\n",
    "age = int(input(\"Enter your age: \"))\n",
    "\n",
    "# Check eligibility to vote\n",
    "if age >= 18:\n",
    "    print(\"You are eligible to vote.\")\n",
    "else:\n",
    "    print(\"You are not eligible to vote yet.\")\n"
   ]
  },
  {
   "cell_type": "markdown",
   "id": "9316ac52-c31b-4e5a-a0fb-555808405330",
   "metadata": {},
   "source": [
    "\n",
    "3. Write a program to find the maximum of two given numbers using conditional statements."
   ]
  },
  {
   "cell_type": "code",
   "execution_count": 6,
   "id": "af3c73b0-4eff-4a0f-a365-df3780192283",
   "metadata": {},
   "outputs": [
    {
     "name": "stdin",
     "output_type": "stream",
     "text": [
      "Enter the first number:  4\n",
      "Enter the second number:  5\n"
     ]
    },
    {
     "name": "stdout",
     "output_type": "stream",
     "text": [
      "The maximum of 4.0 and 5.0 is: 5.0\n"
     ]
    }
   ],
   "source": [
    "# Input two numbers\n",
    "number1 = float(input(\"Enter the first number: \"))\n",
    "number2 = float(input(\"Enter the second number: \"))\n",
    "\n",
    "# Find the maximum using conditional statements\n",
    "if number1 > number2:\n",
    "    maximum = number1\n",
    "else:\n",
    "    maximum = number2\n",
    "\n",
    "# Print the result\n",
    "print(f\"The maximum of {number1} and {number2} is: {maximum}\")\n"
   ]
  },
  {
   "cell_type": "markdown",
   "id": "98135cf8-d7ce-49b5-908b-5672cdd8385e",
   "metadata": {},
   "source": [
    "4. Develop a program that calculates the grade of a student based on their exam score.\n"
   ]
  },
  {
   "cell_type": "code",
   "execution_count": 10,
   "id": "4f721c9c-84f4-40a5-84f1-715ed745d433",
   "metadata": {},
   "outputs": [
    {
     "name": "stdin",
     "output_type": "stream",
     "text": [
      "enter the marks out of 25 12\n",
      "enter the marks out of 25 11\n",
      "enter the marks out of 25 1\n",
      "enter the marks out of 25 2\n"
     ]
    },
    {
     "name": "stdout",
     "output_type": "stream",
     "text": [
      "No grade you are fail\n"
     ]
    }
   ],
   "source": [
    "def grade(total):\n",
    "    if total<100 and total >80:\n",
    "        return 'you got Grade A'\n",
    "    elif total >50. and total <80:\n",
    "        return 'you got Grade B'\n",
    "    elif total >40 and total <50:\n",
    "        return \"you got Grade C\"\n",
    "    else:\n",
    "        return \"No grade you are fail\"\n",
    "english=int(input(\"enter the marks out of 25\"))\n",
    "maths =int(input(\"enter the marks out of 25\"))\n",
    "phy=int(input(\"enter the marks out of 25\"))\n",
    "bio=int(input(\"enter the marks out of 25\"))\n",
    "total=english +maths+phy+bio\n",
    "if total <100:\n",
    "    print(grade(total))"
   ]
  },
  {
   "cell_type": "markdown",
   "id": "6448cca2-e8c0-4062-bd57-cb177d6a8315",
   "metadata": {},
   "source": [
    "5. Create a program that checks if a year is a leap year or not.\n"
   ]
  },
  {
   "cell_type": "code",
   "execution_count": 12,
   "id": "eda15388-2289-40f5-bee7-d29d28f822af",
   "metadata": {},
   "outputs": [
    {
     "name": "stdin",
     "output_type": "stream",
     "text": [
      "enter the input 4043\n"
     ]
    },
    {
     "name": "stdout",
     "output_type": "stream",
     "text": [
      "False\n"
     ]
    }
   ],
   "source": [
    "def leap_year(year):\n",
    "    return year%4==0 and year %100 !=0 or year %400 ==0\n",
    "year=int(input(\"enter the input\"))\n",
    "print(leap_year(year))"
   ]
  },
  {
   "cell_type": "markdown",
   "id": "282e335b-86aa-4de0-b67b-b6e891217628",
   "metadata": {},
   "source": [
    "6. Write a program to classify a triangle based on its sides' lengths.\n"
   ]
  },
  {
   "cell_type": "code",
   "execution_count": 13,
   "id": "b4825904-0bfe-466e-86a4-f896858c80d7",
   "metadata": {},
   "outputs": [
    {
     "name": "stdin",
     "output_type": "stream",
     "text": [
      "Enter the length of the first side:  45\n",
      "Enter the length of the second side:  45\n",
      "Enter the length of the third side:  45\n"
     ]
    },
    {
     "name": "stdout",
     "output_type": "stream",
     "text": [
      "Equilateral triangle: All sides are equal.\n"
     ]
    }
   ],
   "source": [
    "# Input side lengths of the triangle\n",
    "side1 = float(input(\"Enter the length of the first side: \"))\n",
    "side2 = float(input(\"Enter the length of the second side: \"))\n",
    "side3 = float(input(\"Enter the length of the third side: \"))\n",
    "\n",
    "# Check triangle classification based on sides' lengths\n",
    "if side1 == side2 == side3:\n",
    "    print(\"Equilateral triangle: All sides are equal.\")\n",
    "elif side1 == side2 or side1 == side3 or side2 == side3:\n",
    "    print(\"Isosceles triangle: Two sides are equal.\")\n",
    "else:\n",
    "    print(\"Scalene triangle: All sides are different.\")\n"
   ]
  },
  {
   "cell_type": "markdown",
   "id": "1d16c4d3-3efd-4984-bbc1-e23925ad5126",
   "metadata": {},
   "source": [
    "7. Build a program that determines the largest of three given numbers.\n"
   ]
  },
  {
   "cell_type": "code",
   "execution_count": 14,
   "id": "3f2c14fd-9e06-49ca-9168-c44e6cfb4612",
   "metadata": {},
   "outputs": [
    {
     "name": "stdin",
     "output_type": "stream",
     "text": [
      "enter the number 3\n",
      "enter the number 4\n",
      "enter the number 6\n"
     ]
    },
    {
     "name": "stdout",
     "output_type": "stream",
     "text": [
      "6\n"
     ]
    }
   ],
   "source": [
    "a=int(input(\"enter the number\"))\n",
    "b=int(input(\"enter the number\"))\n",
    "c=int(input(\"enter the number\"))\n",
    "maxi=max(a,b,c)\n",
    "print(maxi)"
   ]
  },
  {
   "cell_type": "markdown",
   "id": "760df71b-5f9f-4fd3-87be-0669e59d6f7c",
   "metadata": {},
   "source": [
    "8. Develop a program that checks whether a character is a vowel or a consonant.\n"
   ]
  },
  {
   "cell_type": "code",
   "execution_count": 15,
   "id": "523f1fb7-7f5a-490c-be60-fcb56c73d199",
   "metadata": {},
   "outputs": [
    {
     "name": "stdin",
     "output_type": "stream",
     "text": [
      "Enter a character:  y\n"
     ]
    },
    {
     "name": "stdout",
     "output_type": "stream",
     "text": [
      "The character 'y' is a consonant.\n"
     ]
    }
   ],
   "source": [
    "# Input a character\n",
    "character = input(\"Enter a character: \")\n",
    "\n",
    "# Convert the character to lowercase for case-insensitive comparison\n",
    "character = character.lower()\n",
    "\n",
    "# Check if the entered character is a vowel or a consonant\n",
    "if len(character) == 1 and character.isalpha():\n",
    "    if character in 'aeiou':\n",
    "        print(f\"The character '{character}' is a vowel.\")\n",
    "    else:\n",
    "        print(f\"The character '{character}' is a consonant.\")\n",
    "else:\n",
    "    print(\"Please enter a valid single alphabetic character.\")\n"
   ]
  },
  {
   "cell_type": "markdown",
   "id": "49d5c3ca-05e5-410b-b8c3-28a35062cb6b",
   "metadata": {},
   "source": [
    "9. Create a program to calculate the total cost of a shopping cart based on discounts.\n"
   ]
  },
  {
   "cell_type": "code",
   "execution_count": 16,
   "id": "6535fe67-dac1-4719-9682-fab12ecc2323",
   "metadata": {},
   "outputs": [
    {
     "name": "stdin",
     "output_type": "stream",
     "text": [
      "Enter the number of items in the shopping cart:  3\n",
      "Enter the price of item 1:  34\n",
      "Enter the price of item 2:  456\n",
      "Enter the price of item 3:  23\n"
     ]
    },
    {
     "name": "stdout",
     "output_type": "stream",
     "text": [
      "The total cost of the shopping cart is: $461.70\n"
     ]
    }
   ],
   "source": [
    "# Function to calculate total cost with discounts\n",
    "def calculate_total_cost(item_prices):\n",
    "    total_cost = sum(item_prices)\n",
    "\n",
    "    # Apply discount based on total cost\n",
    "    if total_cost >= 100:\n",
    "        discount = 0.1 * total_cost  # 10% discount for total cost >= 100\n",
    "        total_cost -= discount\n",
    "\n",
    "    return total_cost\n",
    "\n",
    "# Input the prices of items in the shopping cart\n",
    "num_items = int(input(\"Enter the number of items in the shopping cart: \"))\n",
    "item_prices = []\n",
    "\n",
    "for i in range(num_items):\n",
    "    price = float(input(f\"Enter the price of item {i + 1}: \"))\n",
    "    item_prices.append(price)\n",
    "\n",
    "# Calculate and print the total cost\n",
    "total_cost = calculate_total_cost(item_prices)\n",
    "print(f\"The total cost of the shopping cart is: ${total_cost:.2f}\")\n"
   ]
  },
  {
   "cell_type": "markdown",
   "id": "4b42b89b-f7a6-4540-ad1b-6fd98f829897",
   "metadata": {},
   "source": [
    "10. Write a program that checks if a given number is even or odd.\n"
   ]
  },
  {
   "cell_type": "code",
   "execution_count": 18,
   "id": "11a0a923-122e-426f-90d0-54eac9e503b2",
   "metadata": {},
   "outputs": [
    {
     "name": "stdin",
     "output_type": "stream",
     "text": [
      "enter the number to check 45\n"
     ]
    },
    {
     "name": "stdout",
     "output_type": "stream",
     "text": [
      "it is a odd num\n"
     ]
    }
   ],
   "source": [
    "check=int(input(\"enter the number to check\"))\n",
    "if check %2==0:\n",
    "    print(\"it is a even number\")\n",
    "else:\n",
    "    print(\"it is a odd num\")"
   ]
  },
  {
   "cell_type": "markdown",
   "id": "3a0bec64-eec1-4392-a135-b1b69646cb1c",
   "metadata": {},
   "source": [
    "\n",
    "11. Write a program that calculates the roots of a quadratic equation ."
   ]
  },
  {
   "cell_type": "code",
   "execution_count": 1,
   "id": "975dec3e-5d47-4c94-a2dc-379576904cdc",
   "metadata": {},
   "outputs": [
    {
     "name": "stdin",
     "output_type": "stream",
     "text": [
      "Enter the coefficient of x^2:  54\n",
      "Enter the coefficient of x:  3\n",
      "Enter the constant term:  23\n"
     ]
    },
    {
     "name": "stdout",
     "output_type": "stream",
     "text": [
      "Roots of the quadratic equation:\n",
      "(-0.027777777777777776+0.6520385885725278j)\n",
      "(-0.027777777777777776-0.6520385885725278j)\n"
     ]
    }
   ],
   "source": [
    "import math\n",
    "\n",
    "def quadratic_roots(a, b, c):\n",
    "    # Calculate the discriminant\n",
    "    discriminant = b**2 - 4*a*c\n",
    "\n",
    "    # Check the nature of the roots\n",
    "    if discriminant > 0:\n",
    "        # Two distinct real roots\n",
    "        root1 = (-b + math.sqrt(discriminant)) / (2*a)\n",
    "        root2 = (-b - math.sqrt(discriminant)) / (2*a)\n",
    "        return root1, root2\n",
    "    elif discriminant == 0:\n",
    "        # One real root (both roots are equal)\n",
    "        root = -b / (2*a)\n",
    "        return root,\n",
    "    else:\n",
    "        # Two complex roots\n",
    "        real_part = -b / (2*a)\n",
    "        imaginary_part = math.sqrt(abs(discriminant)) / (2*a)\n",
    "        root1 = complex(real_part, imaginary_part)\n",
    "        root2 = complex(real_part, -imaginary_part)\n",
    "        return root1, root2\n",
    "\n",
    "def main():\n",
    "    # Get coefficients of the quadratic equation from the user\n",
    "    a = float(input(\"Enter the coefficient of x^2: \"))\n",
    "    b = float(input(\"Enter the coefficient of x: \"))\n",
    "    c = float(input(\"Enter the constant term: \"))\n",
    "\n",
    "    # Find the roots\n",
    "    roots = quadratic_roots(a, b, c)\n",
    "\n",
    "    # Print the roots\n",
    "    print(\"Roots of the quadratic equation:\")\n",
    "    for root in roots:\n",
    "        print(root)\n",
    "\n",
    "if __name__ == \"__main__\":\n",
    "    main()\n"
   ]
  },
  {
   "cell_type": "markdown",
   "id": "372ba87f-8988-45d4-bb2d-8e93b7e3bab6",
   "metadata": {},
   "source": [
    "\n",
    "12. Create a program that determines the day of the week based on the day number (1-7)."
   ]
  },
  {
   "cell_type": "code",
   "execution_count": 19,
   "id": "05f2df1a-85b3-47a9-97ef-ba346fd51243",
   "metadata": {},
   "outputs": [
    {
     "name": "stdout",
     "output_type": "stream",
     "text": [
      "Tuesday\n"
     ]
    }
   ],
   "source": [
    "def day_week(number,current_day=1):\n",
    "    days=[\"Monday\", \"Tuesday\", \"Wednesday\", \"Thursday\", \"Friday\", \"Saturday\", \"Sunday\"]\n",
    "    if number==current_day:\n",
    "        return days[current_day-1]\n",
    "    elif number<7:\n",
    "        return day_week(number,current_day+1)\n",
    "    else:\n",
    "        return 'invalid'\n",
    "days=day_week(2)\n",
    "print(days)"
   ]
  },
  {
   "cell_type": "markdown",
   "id": "0c72dd41-313e-4c2d-8d84-0221af61907b",
   "metadata": {},
   "source": [
    "\n",
    "13. Develop a program that calculates the factorial of a given number using recursion."
   ]
  },
  {
   "cell_type": "code",
   "execution_count": 21,
   "id": "b8347d87-bef5-4c7a-a469-75ed6614eccc",
   "metadata": {},
   "outputs": [
    {
     "name": "stdin",
     "output_type": "stream",
     "text": [
      "enter  5\n"
     ]
    },
    {
     "name": "stdout",
     "output_type": "stream",
     "text": [
      "120\n"
     ]
    }
   ],
   "source": [
    "def fact(n):\n",
    "    if n<=1:\n",
    "        return n\n",
    "    else:\n",
    "        return n*fact(n-1)\n",
    "n=int(input(\"enter \"))\n",
    "print(fact(n))"
   ]
  },
  {
   "cell_type": "markdown",
   "id": "7fe66136-02bb-417b-9a30-c385eb3bd2ac",
   "metadata": {},
   "source": [
    "\n",
    "14. Write a program to find the largest among three numbers without using the `max()` function."
   ]
  },
  {
   "cell_type": "code",
   "execution_count": 22,
   "id": "dae66afb-62f5-4cd6-95dd-3181ab13008d",
   "metadata": {},
   "outputs": [
    {
     "name": "stdin",
     "output_type": "stream",
     "text": [
      "Enter the first number:  56\n",
      "Enter the second number:  34\n",
      "Enter the third number:  3245\n"
     ]
    },
    {
     "name": "stdout",
     "output_type": "stream",
     "text": [
      "The largest number is: 3245.0\n"
     ]
    }
   ],
   "source": [
    "def find_largest(num1, num2, num3):\n",
    "    if num1 >= num2 and num1 >= num3:\n",
    "        return num1\n",
    "    elif num2 >= num1 and num2 >= num3:\n",
    "        return num2\n",
    "    else:\n",
    "        return num3\n",
    "\n",
    "# Get input from the user\n",
    "try:\n",
    "    num1 = float(input(\"Enter the first number: \"))\n",
    "    num2 = float(input(\"Enter the second number: \"))\n",
    "    num3 = float(input(\"Enter the third number: \"))\n",
    "\n",
    "    result = find_largest(num1, num2, num3)\n",
    "\n",
    "    print(\"The largest number is:\", result)\n",
    "except ValueError:\n",
    "    print(\"Please enter valid numbers.\")\n"
   ]
  },
  {
   "cell_type": "markdown",
   "id": "7dcd7801-2e1c-43fa-af0b-cbf545d98ae8",
   "metadata": {},
   "source": [
    "\n",
    "15. Create a program that simulates a basic ATM transaction menu.\n"
   ]
  },
  {
   "cell_type": "code",
   "execution_count": 7,
   "id": "4b3e251f-5c1a-46d0-8649-a6b1013f0a10",
   "metadata": {},
   "outputs": [
    {
     "name": "stdout",
     "output_type": "stream",
     "text": [
      "\n",
      "ATM Menu:\n",
      "1. Check Balance\n",
      "2. Deposit\n",
      "3. Withdraw\n",
      "4. Exit\n"
     ]
    },
    {
     "name": "stdin",
     "output_type": "stream",
     "text": [
      "Enter your choice (1-4):  3\n",
      "Enter the amount to withdraw: $ 400\n"
     ]
    },
    {
     "name": "stdout",
     "output_type": "stream",
     "text": [
      "Withdrawal of $400.0 was successful.\n",
      "\n",
      "ATM Menu:\n",
      "1. Check Balance\n",
      "2. Deposit\n",
      "3. Withdraw\n",
      "4. Exit\n"
     ]
    },
    {
     "name": "stdin",
     "output_type": "stream",
     "text": [
      "Enter your choice (1-4):  3\n",
      "Enter the amount to withdraw: $ 455\n"
     ]
    },
    {
     "name": "stdout",
     "output_type": "stream",
     "text": [
      "Withdrawal of $455.0 was successful.\n",
      "\n",
      "ATM Menu:\n",
      "1. Check Balance\n",
      "2. Deposit\n",
      "3. Withdraw\n",
      "4. Exit\n"
     ]
    },
    {
     "name": "stdin",
     "output_type": "stream",
     "text": [
      "Enter your choice (1-4):  4\n"
     ]
    },
    {
     "name": "stdout",
     "output_type": "stream",
     "text": [
      "Thank you for using the ATM. Goodbye!\n"
     ]
    }
   ],
   "source": [
    "def check_balance(balance):\n",
    "    print(f\"Your current balance is: ${balance}\")\n",
    "\n",
    "def deposit(balance):\n",
    "    amount = float(input(\"Enter the amount to deposit: $\"))\n",
    "    balance += amount\n",
    "    print(f\"Deposit of ${amount} was successful.\")\n",
    "    return balance\n",
    "\n",
    "def withdraw(balance):\n",
    "    amount = float(input(\"Enter the amount to withdraw: $\"))\n",
    "    if amount > balance:\n",
    "        print(\"Insufficient funds. Withdrawal failed.\")\n",
    "    else:\n",
    "        balance -= amount\n",
    "        print(f\"Withdrawal of ${amount} was successful.\")\n",
    "    return balance\n",
    "\n",
    "def main():\n",
    "    balance = 1000  # Initial balance\n",
    "\n",
    "    while True:\n",
    "        print(\"\\nATM Menu:\")\n",
    "        print(\"1. Check Balance\")\n",
    "        print(\"2. Deposit\")\n",
    "        print(\"3. Withdraw\")\n",
    "        print(\"4. Exit\")\n",
    "\n",
    "        choice = input(\"Enter your choice (1-4): \")\n",
    "\n",
    "        if choice == '1':\n",
    "            check_balance(balance)\n",
    "        elif choice == '2':\n",
    "            balance = deposit(balance)\n",
    "        elif choice == '3':\n",
    "            balance = withdraw(balance)\n",
    "        elif choice == '4':\n",
    "            print(\"Thank you for using the ATM. Goodbye!\")\n",
    "            break\n",
    "        else:\n",
    "            print(\"Invalid choice. Please enter a number from 1 to 4.\")\n",
    "\n",
    "if __name__ == \"__main__\":\n",
    "    main()\n"
   ]
  },
  {
   "cell_type": "markdown",
   "id": "85e7e254-0a10-4a3f-baec-dad701b0439c",
   "metadata": {},
   "source": [
    "\n",
    "16. Build a program that checks if a given string is a palindrome or not."
   ]
  },
  {
   "cell_type": "code",
   "execution_count": 23,
   "id": "acd3ce78-b3bd-4d9b-bd55-632da7a24bac",
   "metadata": {},
   "outputs": [
    {
     "name": "stdin",
     "output_type": "stream",
     "text": [
      "enter the string to check madam\n"
     ]
    },
    {
     "name": "stdout",
     "output_type": "stream",
     "text": [
      "pallindromic\n"
     ]
    }
   ],
   "source": [
    "a=input(\"enter the string to check\")\n",
    "b=a[::-1]\n",
    "if b==a:\n",
    "    print(\"yes pallindromic\")\n",
    "else:\n",
    "    print(\"not pallindromic\")"
   ]
  },
  {
   "cell_type": "markdown",
   "id": "1e33b3ec-c29f-4e6a-b87e-3cef736a7d71",
   "metadata": {},
   "source": [
    "\n",
    "17. Write a program that calculates the average of a list of numbers, excluding the smallest and largest values."
   ]
  },
  {
   "cell_type": "code",
   "execution_count": 25,
   "id": "f46c7b37-4c1a-44c8-8150-c0fb88d38bbe",
   "metadata": {},
   "outputs": [
    {
     "name": "stdin",
     "output_type": "stream",
     "text": [
      "Enter a list of numbers separated by spaces:  45 43 234 12\n"
     ]
    },
    {
     "name": "stdout",
     "output_type": "stream",
     "text": [
      "Average (excluding extremes): 44.0\n"
     ]
    }
   ],
   "source": [
    "def calculate_average_excluding_extremes(numbers):\n",
    "    if len(numbers) < 3:\n",
    "        print(\"Insufficient number of elements to calculate average.\")\n",
    "        return None\n",
    "\n",
    "    # Exclude the smallest and largest values\n",
    "    sorted_numbers = sorted(numbers)\n",
    "    excluded_numbers = sorted_numbers[1:-1]\n",
    "\n",
    "    # Calculate the average\n",
    "    average = sum(excluded_numbers) / len(excluded_numbers)\n",
    "    return average\n",
    "\n",
    "# Get input from the user\n",
    "try:\n",
    "    # Taking a list of numbers as input\n",
    "    numbers = [float(x) for x in input(\"Enter a list of numbers separated by spaces: \").split()]\n",
    "\n",
    "    # Calculate and display the average\n",
    "    result = calculate_average_excluding_extremes(numbers)\n",
    "    \n",
    "    if result is not None:\n",
    "        print(\"Average (excluding extremes):\", result)\n",
    "except ValueError:\n",
    "    print(\"Invalid input. Please enter valid numbers.\")\n"
   ]
  },
  {
   "cell_type": "markdown",
   "id": "2924daed-a8cb-405f-b847-cb7ac4f85d82",
   "metadata": {},
   "source": [
    "\n",
    "19. Create a program that simulates a basic calculator for addition, subtraction, multiplication, and division"
   ]
  },
  {
   "cell_type": "code",
   "execution_count": 26,
   "id": "724f1741-15cb-4023-ac8b-5fce54c4d830",
   "metadata": {},
   "outputs": [
    {
     "name": "stdout",
     "output_type": "stream",
     "text": [
      "\n",
      "**** Basic Calculator ****\n",
      "1. Addition\n",
      "2. Subtraction\n",
      "3. Multiplication\n",
      "4. Division\n",
      "5. Exit\n"
     ]
    },
    {
     "name": "stdin",
     "output_type": "stream",
     "text": [
      "Enter your choice (1-5):  3\n",
      "Enter the first number:  456\n",
      "Enter the second number:  234\n"
     ]
    },
    {
     "name": "stdout",
     "output_type": "stream",
     "text": [
      "Result: 106704.0\n",
      "\n",
      "**** Basic Calculator ****\n",
      "1. Addition\n",
      "2. Subtraction\n",
      "3. Multiplication\n",
      "4. Division\n",
      "5. Exit\n"
     ]
    },
    {
     "name": "stdin",
     "output_type": "stream",
     "text": [
      "Enter your choice (1-5):  2\n",
      "Enter the first number:  454\n",
      "Enter the second number:  656\n"
     ]
    },
    {
     "name": "stdout",
     "output_type": "stream",
     "text": [
      "Result: -202.0\n",
      "\n",
      "**** Basic Calculator ****\n",
      "1. Addition\n",
      "2. Subtraction\n",
      "3. Multiplication\n",
      "4. Division\n",
      "5. Exit\n"
     ]
    },
    {
     "name": "stdin",
     "output_type": "stream",
     "text": [
      "Enter your choice (1-5):  5\n"
     ]
    },
    {
     "name": "stdout",
     "output_type": "stream",
     "text": [
      "Exiting the calculator. Thank you!\n"
     ]
    }
   ],
   "source": [
    "def add(x, y):\n",
    "    return x + y\n",
    "\n",
    "def subtract(x, y):\n",
    "    return x - y\n",
    "\n",
    "def multiply(x, y):\n",
    "    return x * y\n",
    "\n",
    "def divide(x, y):\n",
    "    if y != 0:\n",
    "        return x / y\n",
    "    else:\n",
    "        return \"Error: Cannot divide by zero\"\n",
    "\n",
    "# Main program\n",
    "while True:\n",
    "    print(\"\\n**** Basic Calculator ****\")\n",
    "    print(\"1. Addition\")\n",
    "    print(\"2. Subtraction\")\n",
    "    print(\"3. Multiplication\")\n",
    "    print(\"4. Division\")\n",
    "    print(\"5. Exit\")\n",
    "\n",
    "    choice = input(\"Enter your choice (1-5): \")\n",
    "\n",
    "    if choice == \"5\":\n",
    "        print(\"Exiting the calculator. Thank you!\")\n",
    "        break\n",
    "\n",
    "    try:\n",
    "        num1 = float(input(\"Enter the first number: \"))\n",
    "        num2 = float(input(\"Enter the second number: \"))\n",
    "\n",
    "        if choice == \"1\":\n",
    "            result = add(num1, num2)\n",
    "            print(\"Result:\", result)\n",
    "        elif choice == \"2\":\n",
    "            result = subtract(num1, num2)\n",
    "            print(\"Result:\", result)\n",
    "        elif choice == \"3\":\n",
    "            result = multiply(num1, num2)\n",
    "            print(\"Result:\", result)\n",
    "        elif choice == \"4\":\n",
    "            result = divide(num1, num2)\n",
    "            print(\"Result:\", result)\n",
    "        else:\n",
    "            print(\"Invalid choice. Please enter a number between 1 and 5.\")\n",
    "    except ValueError:\n",
    "        print(\"Invalid input. Please enter valid numbers.\")\n",
    "    except Exception as e:\n",
    "        print(f\"An error occurred: {e}\")\n"
   ]
  },
  {
   "cell_type": "markdown",
   "id": "75cee1f3-070c-40ce-aeef-c6bf844a11b8",
   "metadata": {},
   "source": [
    "\n",
    "18. Develop a program that converts a given temperature from Celsius to Fahrenheit.."
   ]
  },
  {
   "cell_type": "code",
   "execution_count": 2,
   "id": "38806d1a-64d2-4c8f-a11c-eb675225c7b5",
   "metadata": {},
   "outputs": [
    {
     "name": "stdin",
     "output_type": "stream",
     "text": [
      "Enter temperature in Celsius:  456\n"
     ]
    },
    {
     "name": "stdout",
     "output_type": "stream",
     "text": [
      "456.0 degrees Celsius is equal to 852.80 degrees Fahrenheit.\n"
     ]
    }
   ],
   "source": [
    "def celsius_to_fahrenheit(celsius):\n",
    "    fahrenheit = (celsius * 9/5) + 32\n",
    "    return fahrenheit\n",
    "\n",
    "celsius_temperature = float(input(\"Enter temperature in Celsius: \"))\n",
    "\n",
    "fahrenheit_temperature = celsius_to_fahrenheit(celsius_temperature)\n",
    "\n",
    "print(f\"{celsius_temperature} degrees Celsius is equal to {fahrenheit_temperature:.2f} degrees Fahrenheit.\")\n"
   ]
  },
  {
   "cell_type": "markdown",
   "id": "76759bd9-bd5f-4147-a55d-36b93b87a0cd",
   "metadata": {},
   "source": [
    "\n",
    "20. Write a program that determines the roots of a cubic equation using the Cardano formula."
   ]
  },
  {
   "cell_type": "markdown",
   "id": "854c77e0-942e-47e3-ad8b-5fa27b109ade",
   "metadata": {},
   "source": [
    "\n",
    "21. Create a program that calculates the income tax based on the user's income and tax brackets."
   ]
  },
  {
   "cell_type": "code",
   "execution_count": 1,
   "id": "fc3c0ef7-2fdf-4f7d-8f6a-53e1a4389dd2",
   "metadata": {},
   "outputs": [
    {
     "name": "stdin",
     "output_type": "stream",
     "text": [
      "Enter your income:  500000\n"
     ]
    },
    {
     "name": "stdout",
     "output_type": "stream",
     "text": [
      "Your income tax is: $220000.00\n"
     ]
    }
   ],
   "source": [
    "def calculate_income_tax(income):\n",
    "    tax_brackets = [\n",
    "        (10000, 0.1),\n",
    "        (20000, 0.2),\n",
    "        (50000, 0.3),\n",
    "        (100000, 0.4),\n",
    "        (float('inf'), 0.5)\n",
    "    ]\n",
    "\n",
    "    tax = 0\n",
    "    remaining_income = income\n",
    "\n",
    "    for bracket, rate in tax_brackets:\n",
    "        if remaining_income <= 0:\n",
    "            break\n",
    "        bracket_amount = min(remaining_income, bracket)\n",
    "        tax += bracket_amount * rate\n",
    "        remaining_income -= bracket_amount\n",
    "\n",
    "    return tax\n",
    "\n",
    "if __name__ == \"__main__\":\n",
    "    try:\n",
    "        income = float(input(\"Enter your income: \"))\n",
    "        if income < 0:\n",
    "            print(\"Income cannot be negative.\")\n",
    "        else:\n",
    "            tax = calculate_income_tax(income)\n",
    "            print(f\"Your income tax is: ${tax:.2f}\")\n",
    "    except ValueError:\n",
    "        print(\"Invalid input. Please enter a valid number.\")\n"
   ]
  },
  {
   "cell_type": "markdown",
   "id": "c066e42a-d45e-42a7-832b-3c7f0e36c5e1",
   "metadata": {},
   "source": [
    "\n",
    "22. Write a program that simulates a rock-paper-scissors game against the computer."
   ]
  },
  {
   "cell_type": "code",
   "execution_count": 10,
   "id": "ca4515a4-9c8e-4f95-94f4-c14a536e6392",
   "metadata": {},
   "outputs": [
    {
     "name": "stdout",
     "output_type": "stream",
     "text": [
      "Welcome to Rock-Paper-Scissors!\n"
     ]
    },
    {
     "name": "stdin",
     "output_type": "stream",
     "text": [
      "Enter your choice (rock, paper, or scissors):  scissor\n"
     ]
    },
    {
     "name": "stdout",
     "output_type": "stream",
     "text": [
      "Invalid choice. Please enter rock, paper, or scissors.\n"
     ]
    },
    {
     "name": "stdin",
     "output_type": "stream",
     "text": [
      "Enter your choice (rock, paper, or scissors):  scissors\n"
     ]
    },
    {
     "name": "stdout",
     "output_type": "stream",
     "text": [
      "\n",
      "You chose: scissors\n",
      "Computer chose: scissors\n",
      "It's a tie!\n"
     ]
    },
    {
     "name": "stdin",
     "output_type": "stream",
     "text": [
      "\n",
      "Do you want to play again? (yes/no):  yes\n",
      "Enter your choice (rock, paper, or scissors):  rock\n"
     ]
    },
    {
     "name": "stdout",
     "output_type": "stream",
     "text": [
      "\n",
      "You chose: rock\n",
      "Computer chose: rock\n",
      "It's a tie!\n"
     ]
    },
    {
     "name": "stdin",
     "output_type": "stream",
     "text": [
      "\n",
      "Do you want to play again? (yes/no):  yes\n",
      "Enter your choice (rock, paper, or scissors):  rock\n"
     ]
    },
    {
     "name": "stdout",
     "output_type": "stream",
     "text": [
      "\n",
      "You chose: rock\n",
      "Computer chose: rock\n",
      "It's a tie!\n"
     ]
    },
    {
     "name": "stdin",
     "output_type": "stream",
     "text": [
      "\n",
      "Do you want to play again? (yes/no):  paper\n"
     ]
    },
    {
     "name": "stdout",
     "output_type": "stream",
     "text": [
      "Thanks for playing!\n"
     ]
    }
   ],
   "source": [
    "import random\n",
    "\n",
    "def get_user_choice():\n",
    "    while True:\n",
    "        user_choice = input(\"Enter your choice (rock, paper, or scissors): \").lower()\n",
    "        if user_choice in ['rock', 'paper', 'scissors']:\n",
    "            return user_choice\n",
    "        else:\n",
    "            print(\"Invalid choice. Please enter rock, paper, or scissors.\")\n",
    "\n",
    "def get_computer_choice():\n",
    "    return random.choice(['rock', 'paper', 'scissors'])\n",
    "\n",
    "def determine_winner(user_choice, computer_choice):\n",
    "    if user_choice == computer_choice:\n",
    "        return \"It's a tie!\"\n",
    "    elif (user_choice == 'rock' and computer_choice == 'scissors') or \\\n",
    "         (user_choice == 'paper' and computer_choice == 'rock') or \\\n",
    "         (user_choice == 'scissors' and computer_choice == 'paper'):\n",
    "        return \"You win!\"\n",
    "    else:\n",
    "        return \"Computer wins!\"\n",
    "\n",
    "if __name__ == \"__main__\":\n",
    "    print(\"Welcome to Rock-Paper-Scissors!\")\n",
    "\n",
    "    while True:\n",
    "        user_choice = get_user_choice()\n",
    "        computer_choice = get_computer_choice()\n",
    "\n",
    "        print(f\"\\nYou chose: {user_choice}\")\n",
    "        print(f\"Computer chose: {computer_choice}\")\n",
    "\n",
    "        result = determine_winner(user_choice, computer_choice)\n",
    "        print(result)\n",
    "\n",
    "        play_again = input(\"\\nDo you want to play again? (yes/no): \").lower()\n",
    "        if play_again != 'yes':\n",
    "            break\n",
    "\n",
    "    print(\"Thanks for playing!\")\n"
   ]
  },
  {
   "cell_type": "markdown",
   "id": "0b3c70d7-db69-4838-88fb-4a4b17d97684",
   "metadata": {},
   "source": [
    "24. Create a program that implements a simple text-based adventure game with branching scenarios.\n"
   ]
  },
  {
   "cell_type": "code",
   "execution_count": 11,
   "id": "f09859f6-9766-4680-a858-9076164f6634",
   "metadata": {},
   "outputs": [
    {
     "name": "stdout",
     "output_type": "stream",
     "text": [
      "Welcome to the Text Adventure Game!\n",
      "You find yourself in a dark forest. You can go 'left' or 'right'.\n"
     ]
    },
    {
     "name": "stdin",
     "output_type": "stream",
     "text": [
      "What will you do?  swim\n"
     ]
    },
    {
     "name": "stdout",
     "output_type": "stream",
     "text": [
      "Invalid choice. Please enter 'left' or 'right'.\n"
     ]
    },
    {
     "name": "stdin",
     "output_type": "stream",
     "text": [
      "What will you do?  cave\n"
     ]
    },
    {
     "name": "stdout",
     "output_type": "stream",
     "text": [
      "Invalid choice. Please enter 'left' or 'right'.\n"
     ]
    },
    {
     "name": "stdin",
     "output_type": "stream",
     "text": [
      "What will you do?  walk\n"
     ]
    },
    {
     "name": "stdout",
     "output_type": "stream",
     "text": [
      "Invalid choice. Please enter 'left' or 'right'.\n"
     ]
    },
    {
     "name": "stdin",
     "output_type": "stream",
     "text": [
      "What will you do?  right\n"
     ]
    },
    {
     "name": "stdout",
     "output_type": "stream",
     "text": [
      "\n",
      "You chose to go right.\n",
      "You come across a cave. You can 'enter' the cave or 'walk' around it.\n"
     ]
    },
    {
     "name": "stdin",
     "output_type": "stream",
     "text": [
      "What will you do?  edsf\n"
     ]
    },
    {
     "name": "stdout",
     "output_type": "stream",
     "text": [
      "Invalid choice. Please enter 'enter' or 'walk'.\n"
     ]
    },
    {
     "name": "stdin",
     "output_type": "stream",
     "text": [
      "What will you do?  asds\n"
     ]
    },
    {
     "name": "stdout",
     "output_type": "stream",
     "text": [
      "Invalid choice. Please enter 'enter' or 'walk'.\n"
     ]
    },
    {
     "name": "stdin",
     "output_type": "stream",
     "text": [
      "What will you do?  walk\n"
     ]
    },
    {
     "name": "stdout",
     "output_type": "stream",
     "text": [
      "\n",
      "You chose to walk around the cave.\n",
      "You find a hidden treasure chest!\n"
     ]
    }
   ],
   "source": [
    "def start_game():\n",
    "    print(\"Welcome to the Text Adventure Game!\")\n",
    "    print(\"You find yourself in a dark forest. You can go 'left' or 'right'.\")\n",
    "\n",
    "    while True:\n",
    "        choice = input(\"What will you do? \").lower()\n",
    "\n",
    "        if choice == 'left':\n",
    "            go_left()\n",
    "            break\n",
    "        elif choice == 'right':\n",
    "            go_right()\n",
    "            break\n",
    "        else:\n",
    "            print(\"Invalid choice. Please enter 'left' or 'right'.\")\n",
    "\n",
    "def go_left():\n",
    "    print(\"\\nYou chose to go left.\")\n",
    "    print(\"You encounter a river. You can 'swim' across or 'follow' the river.\")\n",
    "\n",
    "    while True:\n",
    "        choice = input(\"What will you do? \").lower()\n",
    "\n",
    "        if choice == 'swim':\n",
    "            swim()\n",
    "            break\n",
    "        elif choice == 'follow':\n",
    "            follow_river()\n",
    "            break\n",
    "        else:\n",
    "            print(\"Invalid choice. Please enter 'swim' or 'follow'.\")\n",
    "\n",
    "def go_right():\n",
    "    print(\"\\nYou chose to go right.\")\n",
    "    print(\"You come across a cave. You can 'enter' the cave or 'walk' around it.\")\n",
    "\n",
    "    while True:\n",
    "        choice = input(\"What will you do? \").lower()\n",
    "\n",
    "        if choice == 'enter':\n",
    "            enter_cave()\n",
    "            break\n",
    "        elif choice == 'walk':\n",
    "            walk_around()\n",
    "            break\n",
    "        else:\n",
    "            print(\"Invalid choice. Please enter 'enter' or 'walk'.\")\n",
    "\n",
    "def swim():\n",
    "    print(\"\\nYou decided to swim across the river.\")\n",
    "    print(\"You made it to the other side safely.\")\n",
    "\n",
    "def follow_river():\n",
    "    print(\"\\nYou decided to follow the river.\")\n",
    "    print(\"You discover a hidden path that leads deeper into the forest.\")\n",
    "\n",
    "def enter_cave():\n",
    "    print(\"\\nYou entered the cave.\")\n",
    "    print(\"It's dark and damp inside. You hear strange noises.\")\n",
    "\n",
    "def walk_around():\n",
    "    print(\"\\nYou chose to walk around the cave.\")\n",
    "    print(\"You find a hidden treasure chest!\")\n",
    "\n",
    "if __name__ == \"__main__\":\n",
    "    start_game()\n"
   ]
  },
  {
   "cell_type": "markdown",
   "id": "3262aa16-cfec-4692-99bb-e6724e017e00",
   "metadata": {},
   "source": [
    "25. Build a program that solves a linear equation for x, considering different cases.\n"
   ]
  },
  {
   "cell_type": "code",
   "execution_count": 12,
   "id": "8b466add-6ea9-4f57-95bd-c56a7a673025",
   "metadata": {},
   "outputs": [
    {
     "name": "stdout",
     "output_type": "stream",
     "text": [
      "Linear Equation Solver\n",
      "Enter the coefficients of the linear equation ax + b = 0\n"
     ]
    },
    {
     "name": "stdin",
     "output_type": "stream",
     "text": [
      "Enter the coefficient 'a':  5\n",
      "Enter the constant term 'b':  7\n"
     ]
    },
    {
     "name": "stdout",
     "output_type": "stream",
     "text": [
      "Solution for the equation 5.0x + 7.0 = 0 is x = -1.40\n"
     ]
    }
   ],
   "source": [
    "def solve_linear_equation(a, b):\n",
    "    if a == 0:\n",
    "        if b == 0:\n",
    "            print(\"The equation is of the form 0 = 0. Infinite solutions.\")\n",
    "        else:\n",
    "            print(\"The equation is inconsistent. No solution exists.\")\n",
    "    else:\n",
    "        x = -b / a\n",
    "        print(\"Solution for the equation {}x + {} = 0 is x = {:.2f}\".format(a, b, x))\n",
    "\n",
    "if __name__ == \"__main__\":\n",
    "    print(\"Linear Equation Solver\")\n",
    "    print(\"Enter the coefficients of the linear equation ax + b = 0\")\n",
    "\n",
    "    try:\n",
    "        a = float(input(\"Enter the coefficient 'a': \"))\n",
    "        b = float(input(\"Enter the constant term 'b': \"))\n",
    "\n",
    "        solve_linear_equation(a, b)\n",
    "    except ValueError:\n",
    "        print(\"Invalid input. Please enter numeric coefficients.\")\n"
   ]
  },
  {
   "cell_type": "markdown",
   "id": "1ee58105-e9d9-46f1-89b5-23e83fca1a30",
   "metadata": {},
   "source": [
    "26. Write a program that simulates a basic quiz game with multiple-choice questions and scoring.\n"
   ]
  },
  {
   "cell_type": "code",
   "execution_count": 16,
   "id": "f210474c-ccb0-472f-8770-8f97d04d0c61",
   "metadata": {},
   "outputs": [],
   "source": [
    "def run_quiz(questions):\n",
    "    score = 0\n",
    "    total_questions = len(questions)\n",
    "\n",
    "    for question, options, answer in questions:\n",
    "        print(\"\\n\" + question)\n",
    "        for i, option in enumerate(options, start=1):\n",
    "            print(f\"{i}. {option}\")\n",
    "\n",
    "        user_answer = input(\"Enter your choice (1-{}): \".format(len(options)))\n",
    "\n",
    "        if user_answer.isdigit() and 1 <= int(user_answer) <= len(options):\n",
    "            user_answer_index = int(user_answer) - 1\n",
    "            if options[user_answer_index] == answer:\n",
    "                print(\"Correct!\")\n",
    "                score += 1\n",
    "            else:\n",
    "                print(\"Incorrect! The correct answer is:\", answer)\n",
    "        else:\n",
    "            print(\"Invalid choice. Skipping this question.\")\n",
    "\n",
    "    print(\"\\nQuiz completed!\")\n",
    "    print(\"Your score: {}/{}\".format(score, total_questions))\n",
    "\n",
    "if __name__ == \"__main__\":\n",
    "    quiz_questions = [\n",
    "        (\"What is the capital of France?\", [\"London\", \"Paris\", \"Rome\", \"Berlin\"], \"Paris\"),\n",
    "        (\"What is the largest planet in our solar system?\", [\"Mars\", \"Venus\", \"Jupiter\", \"Saturn\"], \"Jupiter\"),\n",
    "        (\"Who wrote 'Romeo and Juliet'?\", [\"William Shakespeare\", \"Charles Dickens\", \"Jane Austen\", \"Mark Twain\"], \"William Shakespeare\"),\n",
    "        (\"What is the chemical symbol for water?\", [\"H\", \"O\", \"CO\", \"H2O\"], \"H2O\"),\n",
    "        (\"What year did the Titanic sink?\", [\"1912\", \"1905\", \"1920\", \"1918\"], \"1912\")\n",
    "    ]\n",
    "\n",
    "    \n"
   ]
  },
  {
   "cell_type": "markdown",
   "id": "7e7597a5-14ba-4fba-bdab-aa0dd0a3241e",
   "metadata": {},
   "source": [
    "27. Develop a program that determines whether a given year is a prime number or not.\n"
   ]
  },
  {
   "cell_type": "code",
   "execution_count": 17,
   "id": "cf788a4c-8372-4704-b380-1d784fcf6849",
   "metadata": {},
   "outputs": [
    {
     "name": "stdin",
     "output_type": "stream",
     "text": [
      "Enter a year to check if it's prime:  6789\n"
     ]
    },
    {
     "name": "stdout",
     "output_type": "stream",
     "text": [
      "6789 is not a prime number.\n"
     ]
    }
   ],
   "source": [
    "def is_prime(year):\n",
    "    if year <= 1:\n",
    "        return False\n",
    "    if year == 2:\n",
    "        return True\n",
    "    if year % 2 == 0:\n",
    "        return False\n",
    "\n",
    "    # Check divisibility starting from 3 up to the square root of the number\n",
    "    # Only check odd numbers, as even numbers have already been handled\n",
    "    for i in range(3, int(year**0.5) + 1, 2):\n",
    "        if year % i == 0:\n",
    "            return False\n",
    "\n",
    "    return True\n",
    "\n",
    "if __name__ == \"__main__\":\n",
    "    try:\n",
    "        year = int(input(\"Enter a year to check if it's prime: \"))\n",
    "        if is_prime(year):\n",
    "            print(f\"{year} is a prime number.\")\n",
    "        else:\n",
    "            print(f\"{year} is not a prime number.\")\n",
    "    except ValueError:\n",
    "        print(\"Invalid input. Please enter a valid year.\")\n"
   ]
  },
  {
   "cell_type": "markdown",
   "id": "6453c6a2-f06c-4a2e-aac5-d49d57022d1c",
   "metadata": {},
   "source": [
    "28. Create a program that sorts three numbers in ascending order using conditional statements.\n"
   ]
  },
  {
   "cell_type": "code",
   "execution_count": 18,
   "id": "f18e2234-0d62-45a8-af0b-0baf945c2d1c",
   "metadata": {},
   "outputs": [
    {
     "name": "stdin",
     "output_type": "stream",
     "text": [
      "Enter first number:  4\n",
      "Enter second number:  7\n",
      "Enter third number:  9\n"
     ]
    },
    {
     "name": "stdout",
     "output_type": "stream",
     "text": [
      "Numbers in ascending order: (4.0, 7.0, 9.0)\n"
     ]
    }
   ],
   "source": [
    "def sort_numbers(num1, num2, num3):\n",
    "    if num1 <= num2 and num1 <= num3:\n",
    "        min_num = num1\n",
    "        if num2 <= num3:\n",
    "            mid_num = num2\n",
    "            max_num = num3\n",
    "        else:\n",
    "            mid_num = num3\n",
    "            max_num = num2\n",
    "    elif num2 <= num1 and num2 <= num3:\n",
    "        min_num = num2\n",
    "        if num1 <= num3:\n",
    "            mid_num = num1\n",
    "            max_num = num3\n",
    "        else:\n",
    "            mid_num = num3\n",
    "            max_num = num1\n",
    "    else:\n",
    "        min_num = num3\n",
    "        if num1 <= num2:\n",
    "            mid_num = num1\n",
    "            max_num = num2\n",
    "        else:\n",
    "            mid_num = num2\n",
    "            max_num = num1\n",
    "\n",
    "    return min_num, mid_num, max_num\n",
    "\n",
    "if __name__ == \"__main__\":\n",
    "    num1 = float(input(\"Enter first number: \"))\n",
    "    num2 = float(input(\"Enter second number: \"))\n",
    "    num3 = float(input(\"Enter third number: \"))\n",
    "\n",
    "    sorted_numbers = sort_numbers(num1, num2, num3)\n",
    "    print(\"Numbers in ascending order:\", sorted_numbers)\n"
   ]
  },
  {
   "cell_type": "markdown",
   "id": "586b4c00-ce90-4bd7-b6e0-ecef32dccd4a",
   "metadata": {},
   "source": [
    "29. Build a program that determines the roots of a quartic equation using numerical methods.\n"
   ]
  },
  {
   "cell_type": "code",
   "execution_count": 19,
   "id": "867295e3-aec5-43d1-8ee7-0fa3ea3c7922",
   "metadata": {},
   "outputs": [
    {
     "name": "stdout",
     "output_type": "stream",
     "text": [
      "Approximate roots: [-1.4062424392705293e-11, -1.1065260050771542e-11, 0, 3.000000000000067, 3.0000000000047637]\n"
     ]
    }
   ],
   "source": [
    "def f(x, coefficients):\n",
    "    \"\"\"\n",
    "    Evaluate the quartic equation function at x.\n",
    "    coefficients is a list of coefficients [a, b, c, d, e]\n",
    "    representing the quartic equation: ax^4 + bx^3 + cx^2 + dx + e\n",
    "    \"\"\"\n",
    "    a, b, c, d, e = coefficients\n",
    "    return a * x**4 + b * x**3 + c * x**2 + d * x + e\n",
    "\n",
    "def df(x, coefficients):\n",
    "    \"\"\"\n",
    "    Evaluate the derivative of the quartic equation function at x.\n",
    "    \"\"\"\n",
    "    a, b, c, d, e = coefficients\n",
    "    return 4 * a * x**3 + 3 * b * x**2 + 2 * c * x + d\n",
    "\n",
    "def newton_raphson(coefficients, x0, tol=1e-6, max_iter=1000):\n",
    "    \"\"\"\n",
    "    Find an approximate root of the quartic equation using the Newton-Raphson method.\n",
    "    \"\"\"\n",
    "    x = x0\n",
    "    for _ in range(max_iter):\n",
    "        fx = f(x, coefficients)\n",
    "        if abs(fx) < tol:\n",
    "            return x\n",
    "        dfx = df(x, coefficients)\n",
    "        if dfx == 0:\n",
    "            print(\"Derivative is zero. Cannot converge.\")\n",
    "            return None\n",
    "        x = x - fx / dfx\n",
    "    print(\"Maximum iterations reached. Failed to converge.\")\n",
    "    return None\n",
    "\n",
    "if __name__ == \"__main__\":\n",
    "    # Example: solving the equation x^4 - 6x^3 + 11x^2 - 6x = 0\n",
    "    coefficients = [1, -6, 11, -6, 0]\n",
    "\n",
    "    roots = []\n",
    "    for x0 in [-10, -5, 0, 5, 10]:\n",
    "        root = newton_raphson(coefficients, x0)\n",
    "        if root is not None:\n",
    "            roots.append(root)\n",
    "\n",
    "    print(\"Approximate roots:\", roots)\n"
   ]
  },
  {
   "cell_type": "code",
   "execution_count": 20,
   "id": "434437c4-8c35-40c0-bec8-7d92c5e63793",
   "metadata": {},
   "outputs": [
    {
     "name": "stdout",
     "output_type": "stream",
     "text": [
      "Object `bmi` not found.\n"
     ]
    }
   ],
   "source": [
    "write the program to calculate bmi?"
   ]
  },
  {
   "cell_type": "code",
   "execution_count": 22,
   "id": "a09fc7cb-cc6a-40ea-b643-8b95d8fd3569",
   "metadata": {},
   "outputs": [
    {
     "name": "stdin",
     "output_type": "stream",
     "text": [
      "Enter your weight in kilograms:  76\n",
      "Enter your height in meters:  5.9\n"
     ]
    },
    {
     "name": "stdout",
     "output_type": "stream",
     "text": [
      "Your BMI is: 2.18\n",
      "Recommendation: Underweight: You may need to gain weight. Consider consulting a healthcare professional.\n"
     ]
    }
   ],
   "source": [
    "def calculate_bmi(weight_kg, height_m):\n",
    "    \"\"\"\n",
    "    Calculate the Body Mass Index (BMI) using weight in kilograms and height in meters.\n",
    "    BMI = weight / (height^2)\n",
    "    \"\"\"\n",
    "    return weight_kg / (height_m ** 2)\n",
    "\n",
    "def interpret_bmi(bmi):\n",
    "    \"\"\"\n",
    "    Interpret the BMI and provide health recommendations.\n",
    "    \"\"\"\n",
    "    if bmi < 18.5:\n",
    "        return \"Underweight: You may need to gain weight. Consider consulting a healthcare professional.\"\n",
    "    elif 18.5 <= bmi < 25:\n",
    "        return \"Normal weight: Your weight is considered healthy. Keep up the good work!\"\n",
    "    elif 25 <= bmi < 30:\n",
    "        return \"Overweight: You may need to lose weight. Consider incorporating exercise and dietary changes.\"\n",
    "    else:\n",
    "        return \"Obese: Your weight is significantly higher than the healthy range. Consider consulting a healthcare professional for guidance.\"\n",
    "\n",
    "if __name__ == \"__main__\":\n",
    "    try:\n",
    "        weight = float(input(\"Enter your weight in kilograms: \"))\n",
    "        height = float(input(\"Enter your height in meters: \"))\n",
    "\n",
    "        bmi = calculate_bmi(weight, height)\n",
    "        print(\"Your BMI is:\", round(bmi, 2))\n",
    "\n",
    "        recommendation = interpret_bmi(bmi)\n",
    "        print(\"Recommendation:\", recommendation)\n",
    "    except ValueError:\n",
    "        print(\"Invalid input. Please enter numeric values for weight and height.\")\n"
   ]
  },
  {
   "cell_type": "markdown",
   "id": "827ab202-6259-47a3-a280-c592ce1912eb",
   "metadata": {},
   "source": [
    "31. Create a program that validates a password based on complexity rules (length, characters, etc.).\n"
   ]
  },
  {
   "cell_type": "code",
   "execution_count": 3,
   "id": "21ad900c-9c51-4f60-92f0-277b3735148b",
   "metadata": {},
   "outputs": [
    {
     "name": "stdin",
     "output_type": "stream",
     "text": [
      "Enter your password:  karan1233\n"
     ]
    },
    {
     "name": "stdout",
     "output_type": "stream",
     "text": [
      "Password must contain at least one uppercase letter.\n"
     ]
    }
   ],
   "source": [
    "import re\n",
    "\n",
    "def validate_password(password):\n",
    "    # Check length\n",
    "    if len(password) < 8:\n",
    "        return False, \"Password must be at least 8 characters long.\"\n",
    "\n",
    "    # Check if there's at least one uppercase letter, one lowercase letter, one digit, and one special character\n",
    "    if not any(char.isupper() for char in password):\n",
    "        return False, \"Password must contain at least one uppercase letter.\"\n",
    "    if not any(char.islower() for char in password):\n",
    "        return False, \"Password must contain at least one lowercase letter.\"\n",
    "    if not any(char.isdigit() for char in password):\n",
    "        return False, \"Password must contain at least one digit.\"\n",
    "    if not re.search(r\"[!@#$%^&*()-_=+{};:,<.>]\", password):\n",
    "        return False, \"Password must contain at least one special character.\"\n",
    "\n",
    "    # Password passed all checks\n",
    "    return True, \"Password is valid.\"\n",
    "\n",
    "if __name__ == \"__main__\":\n",
    "    password = input(\"Enter your password: \")\n",
    "    is_valid, message = validate_password(password)\n",
    "    print(message)\n"
   ]
  },
  {
   "cell_type": "markdown",
   "id": "c8c7232c-e3f4-4ebd-977f-050f0185318c",
   "metadata": {},
   "source": [
    "32. Develop a program that performs matrix addition and subtraction based on user input.\n"
   ]
  },
  {
   "cell_type": "code",
   "execution_count": null,
   "id": "76c439c4-53fa-474b-b156-ae8a18522334",
   "metadata": {},
   "outputs": [
    {
     "name": "stdin",
     "output_type": "stream",
     "text": [
      "Enter the number of rows for the matrices:  2\n",
      "Enter the number of columns for the matrices:  2\n"
     ]
    },
    {
     "name": "stdout",
     "output_type": "stream",
     "text": [
      "Enter values for the first matrix:\n"
     ]
    },
    {
     "name": "stdin",
     "output_type": "stream",
     "text": [
      "Enter value for matrix1[0][0]:  3\n",
      "Enter value for matrix1[0][1]:  44\n",
      "Enter value for matrix1[1][0]:  5\n",
      "Enter value for matrix1[1][1]:  2\n"
     ]
    },
    {
     "name": "stdout",
     "output_type": "stream",
     "text": [
      "\n",
      "Enter values for the second matrix:\n"
     ]
    },
    {
     "name": "stdin",
     "output_type": "stream",
     "text": [
      "Enter value for matrix2[0][0]:  43\n",
      "Enter value for matrix2[0][1]:  3\n",
      "Enter value for matrix2[1][0]:  4\n"
     ]
    }
   ],
   "source": [
    "def matrix_addition(matrix1, matrix2):\n",
    "    if len(matrix1) != len(matrix2) or len(matrix1[0]) != len(matrix2[0]):\n",
    "        print(\"Matrices must have the same dimensions for addition.\")\n",
    "        return None\n",
    "\n",
    "    result = []\n",
    "    for i in range(len(matrix1)):\n",
    "        row = []\n",
    "        for j in range(len(matrix1[0])):\n",
    "            row.append(matrix1[i][j] + matrix2[i][j])\n",
    "        result.append(row)\n",
    "    return result\n",
    "\n",
    "\n",
    "def matrix_subtraction(matrix1, matrix2):\n",
    "    if len(matrix1) != len(matrix2) or len(matrix1[0]) != len(matrix2[0]):\n",
    "        print(\"Matrices must have the same dimensions for subtraction.\")\n",
    "        return None\n",
    "\n",
    "    result = []\n",
    "    for i in range(len(matrix1)):\n",
    "        row = []\n",
    "        for j in range(len(matrix1[0])):\n",
    "            row.append(matrix1[i][j] - matrix2[i][j])\n",
    "        result.append(row)\n",
    "    return result\n",
    "\n",
    "\n",
    "def main():\n",
    "    # Get the dimensions of the matrices\n",
    "    rows = int(input(\"Enter the number of rows for the matrices: \"))\n",
    "    cols = int(input(\"Enter the number of columns for the matrices: \"))\n",
    "\n",
    "    # Initialize matrices\n",
    "    matrix1 = []\n",
    "    matrix2 = []\n",
    "\n",
    "    # Input values for the first matrix\n",
    "    print(\"Enter values for the first matrix:\")\n",
    "    for i in range(rows):\n",
    "        row = []\n",
    "        for j in range(cols):\n",
    "            value = int(input(\"Enter value for matrix1[{}][{}]: \".format(i, j)))\n",
    "            row.append(value)\n",
    "        matrix1.append(row)\n",
    "\n",
    "    # Input values for the second matrix\n",
    "    print(\"\\nEnter values for the second matrix:\")\n",
    "    for i in range(rows):\n",
    "        row = []\n",
    "        for j in range(cols):\n",
    "            value = int(input(\"Enter value for matrix2[{}][{}]: \".format(i, j)))\n",
    "            row.append(value)\n",
    "        matrix2.append(row)\n",
    "\n",
    "    # Perform matrix addition and subtraction\n",
    "    addition_result = matrix_addition(matrix1, matrix2)\n",
    "    subtraction_result = matrix_subtraction(matrix1, matrix2)\n",
    "\n",
    "    # Print results\n",
    "    if addition_result:\n",
    "        print(\"\\nResult of matrix addition:\")\n",
    "        for row in addition_result:\n",
    "            print(row)\n",
    "\n",
    "    if subtraction_result:\n",
    "        print(\"\\nResult of matrix subtraction:\")\n",
    "        for row in subtraction_result:\n",
    "            print(row)\n",
    "\n",
    "\n",
    "if __name__ == \"__main__\":\n",
    "    main()\n"
   ]
  },
  {
   "cell_type": "markdown",
   "id": "aa71e0ee-7de5-402e-8d96-eb79ea799ebe",
   "metadata": {},
   "source": [
    "33. Write a program that calculates the greatest common divisor (GCD) of two numbers using the Euclidean\n",
    "algorithm.\n"
   ]
  },
  {
   "cell_type": "code",
   "execution_count": 3,
   "id": "6e5cfd04-fe97-4bec-8000-729258f80640",
   "metadata": {},
   "outputs": [
    {
     "name": "stdin",
     "output_type": "stream",
     "text": [
      "enter the number 8\n",
      "enter the number 16\n"
     ]
    },
    {
     "name": "stdout",
     "output_type": "stream",
     "text": [
      "8\n"
     ]
    }
   ],
   "source": [
    "def gcd(a,b):\n",
    "    if b==0:\n",
    "        return a\n",
    "    else:\n",
    "        return gcd(b,a%b)\n",
    "num1=int(input(\"enter the number\"))\n",
    "num2=int(input(\"enter the number\"))\n",
    "print(gcd(num1,num2))"
   ]
  },
  {
   "cell_type": "markdown",
   "id": "af39b157-e048-4e2b-a595-155e02e72b12",
   "metadata": {},
   "source": [
    "34. Build a program that performs matrix multiplication using nested loops and conditional statements.\n"
   ]
  },
  {
   "cell_type": "code",
   "execution_count": null,
   "id": "d3361555-450e-47e0-9bd6-3960ebc026a3",
   "metadata": {},
   "outputs": [],
   "source": [
    "\n",
    "def matrix_multiplication(matrix1, matrix2):\n",
    "    # Check if matrices can be multiplied\n",
    "    if len(matrix1[0]) != len(matrix2):\n",
    "        print(\"Matrices cannot be multiplied. Number of columns in the first matrix must equal number of rows in the second matrix.\")\n",
    "        return None\n",
    "\n",
    "    # Initialize result matrix with zeros\n",
    "    result = [[0 for _ in range(len(matrix2[0]))] for _ in range(len(matrix1))]\n",
    "\n",
    "    # Perform matrix multiplication\n",
    "    for i in range(len(matrix1)):\n",
    "        for j in range(len(matrix2[0])):\n",
    "            for k in range(len(matrix2)):\n",
    "                result[i][j] += matrix1[i][k] * matrix2[k][j]\n",
    "\n",
    "    return result\n",
    "\n",
    "\n",
    "def main():\n",
    "    # Example matrices\n",
    "    matrix1 = [[1, 2, 3],\n",
    "               [4, 5, 6]]\n",
    "\n",
    "    matrix2 = [[7, 8],\n",
    "               [9, 10],\n",
    "               [11, 12]]\n",
    "\n",
    "    # Perform matrix multiplication\n",
    "    result = matrix_multiplication(matrix1, matrix2)\n",
    "\n",
    "    # Print the result\n",
    "    if result:\n",
    "        print(\"Result of matrix multiplication:\")\n",
    "        for row in result:\n",
    "            print(row)\n",
    "\n",
    "\n",
    "if __name__ == \"__main__\":\n",
    "    main()\n"
   ]
  },
  {
   "cell_type": "markdown",
   "id": "5239f892-4d7f-45ff-89a4-4d0aa1c24f7b",
   "metadata": {},
   "source": [
    "35. Create a program that simulates a basic text-based tic-tac-toe game against the computer.\n"
   ]
  },
  {
   "cell_type": "code",
   "execution_count": 1,
   "id": "5298f78a-5c79-48d2-8185-1634118d92fb",
   "metadata": {},
   "outputs": [
    {
     "name": "stdout",
     "output_type": "stream",
     "text": [
      "Welcome to Tic Tac Toe!\n",
      "  |   |  \n",
      "-----\n",
      "  |   |  \n",
      "-----\n",
      "  |   |  \n",
      "-----\n"
     ]
    },
    {
     "name": "stdin",
     "output_type": "stream",
     "text": [
      "Enter row (0, 1, or 2) for player X:  0\n",
      "Enter column (0, 1, or 2) for player X:  2\n"
     ]
    },
    {
     "name": "stdout",
     "output_type": "stream",
     "text": [
      "  |   | X\n",
      "-----\n",
      "  |   |  \n",
      "-----\n",
      "  |   |  \n",
      "-----\n"
     ]
    },
    {
     "name": "stdin",
     "output_type": "stream",
     "text": [
      "Enter row (0, 1, or 2) for player O:  1\n",
      "Enter column (0, 1, or 2) for player O:  2\n"
     ]
    },
    {
     "name": "stdout",
     "output_type": "stream",
     "text": [
      "  |   | X\n",
      "-----\n",
      "  |   | O\n",
      "-----\n",
      "  |   |  \n",
      "-----\n"
     ]
    },
    {
     "name": "stdin",
     "output_type": "stream",
     "text": [
      "Enter row (0, 1, or 2) for player X:  2\n",
      "Enter column (0, 1, or 2) for player X:  1\n"
     ]
    },
    {
     "name": "stdout",
     "output_type": "stream",
     "text": [
      "  |   | X\n",
      "-----\n",
      "  |   | O\n",
      "-----\n",
      "  | X |  \n",
      "-----\n"
     ]
    },
    {
     "name": "stdin",
     "output_type": "stream",
     "text": [
      "Enter row (0, 1, or 2) for player O:  2\n",
      "Enter column (0, 1, or 2) for player O:  1\n"
     ]
    },
    {
     "name": "stdout",
     "output_type": "stream",
     "text": [
      "This cell is already occupied. Try again.\n",
      "  |   | X\n",
      "-----\n",
      "  |   | O\n",
      "-----\n",
      "  | X |  \n",
      "-----\n"
     ]
    },
    {
     "name": "stdin",
     "output_type": "stream",
     "text": [
      "Enter row (0, 1, or 2) for player O:  21\n",
      "Enter column (0, 1, or 2) for player O:  21\n"
     ]
    },
    {
     "ename": "IndexError",
     "evalue": "list index out of range",
     "output_type": "error",
     "traceback": [
      "\u001b[0;31m---------------------------------------------------------------------------\u001b[0m",
      "\u001b[0;31mIndexError\u001b[0m                                Traceback (most recent call last)",
      "Cell \u001b[0;32mIn[1], line 63\u001b[0m\n\u001b[1;32m     59\u001b[0m         player \u001b[38;5;241m=\u001b[39m \u001b[38;5;124m\"\u001b[39m\u001b[38;5;124mO\u001b[39m\u001b[38;5;124m\"\u001b[39m \u001b[38;5;28;01mif\u001b[39;00m player \u001b[38;5;241m==\u001b[39m \u001b[38;5;124m\"\u001b[39m\u001b[38;5;124mX\u001b[39m\u001b[38;5;124m\"\u001b[39m \u001b[38;5;28;01melse\u001b[39;00m \u001b[38;5;124m\"\u001b[39m\u001b[38;5;124mX\u001b[39m\u001b[38;5;124m\"\u001b[39m\n\u001b[1;32m     62\u001b[0m \u001b[38;5;28;01mif\u001b[39;00m \u001b[38;5;18m__name__\u001b[39m \u001b[38;5;241m==\u001b[39m \u001b[38;5;124m\"\u001b[39m\u001b[38;5;124m__main__\u001b[39m\u001b[38;5;124m\"\u001b[39m:\n\u001b[0;32m---> 63\u001b[0m     \u001b[43mmain\u001b[49m\u001b[43m(\u001b[49m\u001b[43m)\u001b[49m\n",
      "Cell \u001b[0;32mIn[1], line 42\u001b[0m, in \u001b[0;36mmain\u001b[0;34m()\u001b[0m\n\u001b[1;32m     39\u001b[0m row \u001b[38;5;241m=\u001b[39m \u001b[38;5;28mint\u001b[39m(\u001b[38;5;28minput\u001b[39m(\u001b[38;5;124m\"\u001b[39m\u001b[38;5;124mEnter row (0, 1, or 2) for player \u001b[39m\u001b[38;5;132;01m{}\u001b[39;00m\u001b[38;5;124m: \u001b[39m\u001b[38;5;124m\"\u001b[39m\u001b[38;5;241m.\u001b[39mformat(player)))\n\u001b[1;32m     40\u001b[0m col \u001b[38;5;241m=\u001b[39m \u001b[38;5;28mint\u001b[39m(\u001b[38;5;28minput\u001b[39m(\u001b[38;5;124m\"\u001b[39m\u001b[38;5;124mEnter column (0, 1, or 2) for player \u001b[39m\u001b[38;5;132;01m{}\u001b[39;00m\u001b[38;5;124m: \u001b[39m\u001b[38;5;124m\"\u001b[39m\u001b[38;5;241m.\u001b[39mformat(player)))\n\u001b[0;32m---> 42\u001b[0m \u001b[38;5;28;01mif\u001b[39;00m \u001b[43mboard\u001b[49m\u001b[43m[\u001b[49m\u001b[43mrow\u001b[49m\u001b[43m]\u001b[49m[col] \u001b[38;5;241m==\u001b[39m \u001b[38;5;124m\"\u001b[39m\u001b[38;5;124m \u001b[39m\u001b[38;5;124m\"\u001b[39m:\n\u001b[1;32m     43\u001b[0m     board[row][col] \u001b[38;5;241m=\u001b[39m player\n\u001b[1;32m     44\u001b[0m \u001b[38;5;28;01melse\u001b[39;00m:\n",
      "\u001b[0;31mIndexError\u001b[0m: list index out of range"
     ]
    }
   ],
   "source": [
    "def print_board(board):\n",
    "    for row in board:\n",
    "        print(\" | \".join(row))\n",
    "        print(\"-\" * 5)\n",
    "\n",
    "\n",
    "def check_winner(board):\n",
    "    # Check rows, columns, and diagonals for a win\n",
    "    for i in range(3):\n",
    "        if board[i][0] == board[i][1] == board[i][2] != \" \":\n",
    "            return board[i][0]\n",
    "        if board[0][i] == board[1][i] == board[2][i] != \" \":\n",
    "            return board[0][i]\n",
    "\n",
    "    if board[0][0] == board[1][1] == board[2][2] != \" \":\n",
    "        return board[0][0]\n",
    "    if board[0][2] == board[1][1] == board[2][0] != \" \":\n",
    "        return board[0][2]\n",
    "\n",
    "    return None\n",
    "\n",
    "\n",
    "def is_board_full(board):\n",
    "    for row in board:\n",
    "        for cell in row:\n",
    "            if cell == \" \":\n",
    "                return False\n",
    "    return True\n",
    "\n",
    "\n",
    "def main():\n",
    "    board = [[\" \" for _ in range(3)] for _ in range(3)]\n",
    "    player = \"X\"\n",
    "\n",
    "    print(\"Welcome to Tic Tac Toe!\")\n",
    "\n",
    "    while True:\n",
    "        print_board(board)\n",
    "        row = int(input(\"Enter row (0, 1, or 2) for player {}: \".format(player)))\n",
    "        col = int(input(\"Enter column (0, 1, or 2) for player {}: \".format(player)))\n",
    "\n",
    "        if board[row][col] == \" \":\n",
    "            board[row][col] = player\n",
    "        else:\n",
    "            print(\"This cell is already occupied. Try again.\")\n",
    "            continue\n",
    "\n",
    "        winner = check_winner(board)\n",
    "        if winner:\n",
    "            print_board(board)\n",
    "            print(\"Congratulations! Player\", winner, \"wins!\")\n",
    "            break\n",
    "\n",
    "        if is_board_full(board):\n",
    "            print_board(board)\n",
    "            print(\"It's a draw!\")\n",
    "            break\n",
    "\n",
    "        player = \"O\" if player == \"X\" else \"X\"\n",
    "\n",
    "\n",
    "if __name__ == \"__main__\":\n",
    "    main()\n"
   ]
  },
  {
   "cell_type": "markdown",
   "id": "080b0b89-f456-488d-905d-5abd1c4277a7",
   "metadata": {},
   "source": [
    "36. Write a program that generates Fibonacci numbers up to a specified term using iterative methods.\n"
   ]
  },
  {
   "cell_type": "code",
   "execution_count": 2,
   "id": "9d81ae4c-ac83-4180-8c79-5cb716ab042f",
   "metadata": {},
   "outputs": [
    {
     "name": "stdout",
     "output_type": "stream",
     "text": [
      "[0, 1, 1, 2, 3, 5, 8]\n"
     ]
    }
   ],
   "source": [
    "def generate_fib(n):\n",
    "    fib=[0,1]\n",
    "    if n<=0:\n",
    "        return []\n",
    "    if n==1:\n",
    "        return [0]\n",
    "    if n==2:\n",
    "        return fib\n",
    "    for i in range(2,n):\n",
    "        next_fib=fib[-1]+fib[-2]\n",
    "        fib.append(next_fib)\n",
    "    return fib\n",
    "\n",
    "n=7\n",
    "print(generate_fib(n))"
   ]
  },
  {
   "cell_type": "markdown",
   "id": "8742c406-745f-49f1-8d1e-ee2ffe2f9bbb",
   "metadata": {},
   "source": [
    "37. Develop a program that calculates the nth term of the Fibonacci sequence using memoization.\n"
   ]
  },
  {
   "cell_type": "code",
   "execution_count": 10,
   "id": "fd9ef17b-56cf-4711-8356-98d292190461",
   "metadata": {},
   "outputs": [
    {
     "name": "stdout",
     "output_type": "stream",
     "text": [
      "1\n"
     ]
    }
   ],
   "source": [
    "def fib(n,memo={}):\n",
    "    if n in memo:\n",
    "        return memo[n]\n",
    "    if n<=1:\n",
    "        return n\n",
    "    memo[n]=fib(n-1,memo)+fib(n-2,memo)\n",
    "    return memo[n]\n",
    "print(fib(2))"
   ]
  },
  {
   "cell_type": "markdown",
   "id": "c4b79407-a3d4-4b33-ba09-be73d9829c3b",
   "metadata": {},
   "source": [
    "38. Create a program that generates a calendar for a given month and year using conditional statements.\n"
   ]
  },
  {
   "cell_type": "code",
   "execution_count": 1,
   "id": "a9975602-2533-4522-a357-c3defd3779a7",
   "metadata": {},
   "outputs": [
    {
     "name": "stdin",
     "output_type": "stream",
     "text": [
      "Enter the year:  2024\n",
      "Enter the month (1-12):  1\n"
     ]
    },
    {
     "name": "stdout",
     "output_type": "stream",
     "text": [
      "\n",
      "Calendar for January 2024\n",
      "\n",
      " Mon  Tue  Wed  Thu  Fri  Sat  Sun\n",
      "  1    2    3    4    5    6    7  \n",
      "  8    9   10   11   12   13   14  \n",
      " 15   16   17   18   19   20   21  \n",
      " 22   23   24   25   26   27   28  \n",
      " 29   30   31                      \n"
     ]
    }
   ],
   "source": [
    "import calendar\n",
    "\n",
    "def generate_calendar(year, month):\n",
    "    cal = calendar.monthcalendar(year, month)\n",
    "    print(\"\\nCalendar for {} {}\\n\".format(calendar.month_name[month], year))\n",
    "    print(\" Mon  Tue  Wed  Thu  Fri  Sat  Sun\")\n",
    "\n",
    "    for week in cal:\n",
    "        week_str = \"\"\n",
    "        for day in week:\n",
    "            if day == 0:\n",
    "                week_str += \"     \"\n",
    "            else:\n",
    "                week_str += \"{:3}  \".format(day)\n",
    "        print(week_str)\n",
    "\n",
    "\n",
    "def main():\n",
    "    year = int(input(\"Enter the year: \"))\n",
    "    month = int(input(\"Enter the month (1-12): \"))\n",
    "\n",
    "    if month < 1 or month > 12:\n",
    "        print(\"Invalid month. Please enter a month between 1 and 12.\")\n",
    "    else:\n",
    "        generate_calendar(year, month)\n",
    "\n",
    "\n",
    "if __name__ == \"__main__\":\n",
    "    main()\n"
   ]
  },
  {
   "cell_type": "code",
   "execution_count": 11,
   "id": "b526dce1-3319-4ad4-9150-2d096f731695",
   "metadata": {},
   "outputs": [
    {
     "ename": "SyntaxError",
     "evalue": "invalid syntax (918316653.py, line 1)",
     "output_type": "error",
     "traceback": [
      "\u001b[0;36m  Cell \u001b[0;32mIn[11], line 1\u001b[0;36m\u001b[0m\n\u001b[0;31m    39. Build a program that simulates a basic text-based blackjack game against the computer.\u001b[0m\n\u001b[0m        ^\u001b[0m\n\u001b[0;31mSyntaxError\u001b[0m\u001b[0;31m:\u001b[0m invalid syntax\n"
     ]
    }
   ],
   "source": []
  },
  {
   "cell_type": "markdown",
   "id": "be1aa5d3-60d3-494f-adce-828cce3d255b",
   "metadata": {},
   "source": [
    "39. Build a program that simulates a basic text-based blackjack game against the computer.\n"
   ]
  },
  {
   "cell_type": "code",
   "execution_count": 4,
   "id": "abd93034-2bca-4554-9d2a-55feee9d73e6",
   "metadata": {},
   "outputs": [
    {
     "ename": "SyntaxError",
     "evalue": "unterminated string literal (detected at line 105) (215604779.py, line 105)",
     "output_type": "error",
     "traceback": [
      "\u001b[0;36m  Cell \u001b[0;32mIn[4], line 105\u001b[0;36m\u001b[0m\n\u001b[0;31m    choice = input(\"\\nDo you want to hit or stand? Enter 'h' or 's':\u001b[0m\n\u001b[0m                   ^\u001b[0m\n\u001b[0;31mSyntaxError\u001b[0m\u001b[0;31m:\u001b[0m unterminated string literal (detected at line 105)\n"
     ]
    }
   ],
   "source": [
    "import random\n",
    "\n",
    "# Define global variables\n",
    "suits = ['Hearts', 'Diamonds', 'Clubs', 'Spades']\n",
    "ranks = ['Two', 'Three', 'Four', 'Five', 'Six', 'Seven', 'Eight', 'Nine', 'Ten', 'Jack', 'Queen', 'King', 'Ace']\n",
    "values = {'Two': 2, 'Three': 3, 'Four': 4, 'Five': 5, 'Six': 6, 'Seven': 7, 'Eight': 8, 'Nine': 9, 'Ten': 10,\n",
    "          'Jack': 10, 'Queen': 10, 'King': 10, 'Ace': 11}\n",
    "\n",
    "\n",
    "class Card:\n",
    "    def __init__(self, suit, rank):\n",
    "        self.suit = suit\n",
    "        self.rank = rank\n",
    "\n",
    "    def __str__(self):\n",
    "        return self.rank + \" of \" + self.suit\n",
    "\n",
    "\n",
    "class Deck:\n",
    "    def __init__(self):\n",
    "        self.deck = []\n",
    "        for suit in suits:\n",
    "            for rank in ranks:\n",
    "                self.deck.append(Card(suit, rank))\n",
    "\n",
    "    def shuffle(self):\n",
    "        random.shuffle(self.deck)\n",
    "\n",
    "    def deal_card(self):\n",
    "        return self.deck.pop()\n",
    "\n",
    "\n",
    "class Hand:\n",
    "    def __init__(self):\n",
    "        self.cards = []\n",
    "        self.value = 0\n",
    "        self.aces = 0\n",
    "\n",
    "    def add_card(self, card):\n",
    "        self.cards.append(card)\n",
    "        self.value += values[card.rank]\n",
    "        if card.rank == 'Ace':\n",
    "            self.aces += 1\n",
    "\n",
    "    def adjust_for_ace(self):\n",
    "        while self.value > 21 and self.aces:\n",
    "            self.value -= 10\n",
    "            self.aces -= 1\n",
    "\n",
    "\n",
    "def show_some(player, dealer):\n",
    "    print(\"\\nDealer's Hand:\")\n",
    "    print(\"<card hidden>\")\n",
    "    print(dealer.cards[1])\n",
    "    print(\"\\nPlayer's Hand:\", *player.cards, sep='\\n ')\n",
    "\n",
    "\n",
    "def show_all(player, dealer):\n",
    "    print(\"\\nDealer's Hand:\", *dealer.cards, sep='\\n ')\n",
    "    print(\"Dealer's Hand =\", dealer.value)\n",
    "    print(\"\\nPlayer's Hand:\", *player.cards, sep='\\n ')\n",
    "    print(\"Player's Hand =\", player.value)\n",
    "\n",
    "\n",
    "def player_busts():\n",
    "    print(\"Player busts!\")\n",
    "\n",
    "\n",
    "def player_wins():\n",
    "    print(\"Player wins!\")\n",
    "\n",
    "\n",
    "def dealer_busts():\n",
    "    print(\"Dealer busts! Player wins!\")\n",
    "\n",
    "\n",
    "def dealer_wins():\n",
    "    print(\"Dealer wins!\")\n",
    "\n",
    "\n",
    "def push():\n",
    "    print(\"It's a tie!\")\n",
    "\n",
    "\n",
    "def blackjack():\n",
    "    print(\"Welcome to Blackjack!\")\n",
    "\n",
    "    while True:\n",
    "        # Initialize deck and player/dealer hands\n",
    "        deck = Deck()\n",
    "        deck.shuffle()\n",
    "        player_hand = Hand()\n",
    "        dealer_hand = Hand()\n",
    "\n",
    "        # Deal two cards to each player\n",
    "        for _ in range(2):\n",
    "            player_hand.add_card(deck.deal_card())\n",
    "            dealer_hand.add_card(deck.deal_card())\n",
    "\n",
    "        # Show cards\n",
    "        show_some(player_hand, dealer_hand)\n",
    "\n",
    "        # Player's turn\n",
    "        while True:\n",
    "            choice = input(\"\\nDo you want to hit or stand? Enter 'h' or 's':\n",
    "\n",
    "                           "
   ]
  },
  {
   "cell_type": "markdown",
   "id": "eb3221e6-6bba-4213-ba0e-9be9f9260444",
   "metadata": {},
   "source": [
    "40. Write a program that generates the prime factors of a given number using trial division."
   ]
  },
  {
   "cell_type": "code",
   "execution_count": 5,
   "id": "60ae9c96-eaf5-491b-9bcd-1d342fbc7f6d",
   "metadata": {},
   "outputs": [
    {
     "name": "stdin",
     "output_type": "stream",
     "text": [
      "Enter a number to find its prime factors:  67\n"
     ]
    },
    {
     "name": "stdout",
     "output_type": "stream",
     "text": [
      "Prime factors of 67 are: [67]\n"
     ]
    }
   ],
   "source": [
    "def prime_factors(n):\n",
    "    factors = []\n",
    "    divisor = 2\n",
    "\n",
    "    while n > 1:\n",
    "        while n % divisor == 0:\n",
    "            factors.append(divisor)\n",
    "            n //= divisor\n",
    "        divisor += 1\n",
    "\n",
    "    return factors\n",
    "\n",
    "\n",
    "def main():\n",
    "    num = int(input(\"Enter a number to find its prime factors: \"))\n",
    "    if num <= 1:\n",
    "        print(\"Prime factors are only applicable for numbers greater than 1.\")\n",
    "    else:\n",
    "        print(\"Prime factors of\", num, \"are:\", prime_factors(num))\n",
    "\n",
    "\n",
    "if __name__ == \"__main__\":\n",
    "    main()\n"
   ]
  },
  {
   "cell_type": "code",
   "execution_count": null,
   "id": "b8ff93c7-2da7-4549-adb5-4be0c45b9b88",
   "metadata": {},
   "outputs": [],
   "source": []
  }
 ],
 "metadata": {
  "kernelspec": {
   "display_name": "Python 3 (ipykernel)",
   "language": "python",
   "name": "python3"
  },
  "language_info": {
   "codemirror_mode": {
    "name": "ipython",
    "version": 3
   },
   "file_extension": ".py",
   "mimetype": "text/x-python",
   "name": "python",
   "nbconvert_exporter": "python",
   "pygments_lexer": "ipython3",
   "version": "3.10.8"
  }
 },
 "nbformat": 4,
 "nbformat_minor": 5
}
